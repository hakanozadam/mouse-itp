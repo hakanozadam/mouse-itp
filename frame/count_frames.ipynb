{
 "cells": [
  {
   "cell_type": "code",
   "execution_count": null,
   "id": "6fcfc32e",
   "metadata": {},
   "outputs": [],
   "source": []
  },
  {
   "cell_type": "code",
   "execution_count": 1,
   "id": "3c80ae2c",
   "metadata": {},
   "outputs": [],
   "source": [
    "import sys\n",
    "from collections import defaultdict\n",
    "import multiprocessing\n",
    "from multiprocessing import Pool\n",
    "from functools import partial\n",
    "import timeit\n",
    "\n",
    "import ribopy\n",
    "from ribopy import Ribo\n",
    "from ribopy.core.get_gadgets import get_region_boundaries, get_reference_names\n",
    "\n",
    "import numpy as np\n",
    "import pandas as pd\n",
    "\n",
    "sys.path.insert(0, '../snp')\n",
    "from ref_lib.Fasta import FastaEntry, FastaFile"
   ]
  },
  {
   "cell_type": "code",
   "execution_count": 2,
   "id": "d42c7c6c",
   "metadata": {},
   "outputs": [],
   "source": [
    "mouse_transcriptome_file = \"../../mouse_itp_reference/transcriptome/varnt_masked_and_filtered_mouse_transcriptome.fa.gz\"\n",
    "human_transcriptome_file = \"../../../itp/human_itp_reference/transcriptome/appris_human_v2_after_filtering.fa.gz\"\n",
    "\n",
    "mouse_ribo_file = \"../../mouse-itp_v5.ribo\"\n",
    "human_ribo_file = \"../../../itp/human-itp_v4.ribo\"\n",
    "\n",
    "LEN_MIN = 29\n",
    "LEN_MAX = 35"
   ]
  },
  {
   "cell_type": "code",
   "execution_count": 3,
   "id": "88d65df3",
   "metadata": {},
   "outputs": [],
   "source": [
    "mouse_sequences = dict()\n",
    "\n",
    "with FastaFile(mouse_transcriptome_file) as mouse_transcriptome:\n",
    "    for entry in mouse_transcriptome:\n",
    "        mouse_sequences[ entry.header ] = entry.sequence\n",
    "\n"
   ]
  },
  {
   "cell_type": "code",
   "execution_count": 4,
   "id": "0a3c62e9",
   "metadata": {},
   "outputs": [],
   "source": [
    "human_sequences = dict()\n",
    "\n",
    "with FastaFile(human_transcriptome_file) as human_transcriptome:\n",
    "    for entry in human_transcriptome:\n",
    "        human_sequences[ entry.header ] = entry.sequence\n"
   ]
  },
  {
   "cell_type": "code",
   "execution_count": 5,
   "id": "54b1ccfa",
   "metadata": {},
   "outputs": [],
   "source": [
    "mouse_ribo = Ribo(mouse_ribo_file)"
   ]
  },
  {
   "cell_type": "code",
   "execution_count": 6,
   "id": "ee6a6ef0",
   "metadata": {},
   "outputs": [],
   "source": [
    "human_ribo = Ribo(human_ribo_file)"
   ]
  },
  {
   "cell_type": "code",
   "execution_count": 7,
   "id": "d0924444",
   "metadata": {},
   "outputs": [],
   "source": [
    "mouse_region_boundaries = get_region_boundaries(mouse_ribo._handle)\n",
    "mouse_gene_names        = get_reference_names(mouse_ribo._handle)\n",
    "\n",
    "mouse_ref_name_and_boundaries = zip(mouse_gene_names, mouse_region_boundaries)\n",
    "\n",
    "mouse_cds_boundaries = dict()\n",
    "\n",
    "for e in list(mouse_ref_name_and_boundaries):\n",
    "    mouse_cds_boundaries[e[0]] = e[1][1]"
   ]
  },
  {
   "cell_type": "code",
   "execution_count": 8,
   "id": "2e9cce11",
   "metadata": {},
   "outputs": [],
   "source": [
    "human_region_boundaries = get_region_boundaries(human_ribo._handle)\n",
    "human_gene_names        = get_reference_names(human_ribo._handle)\n",
    "\n",
    "human_ref_name_and_boundaries = zip(human_gene_names, human_region_boundaries)\n",
    "\n",
    "human_cds_boundaries = dict()\n",
    "\n",
    "for e in list(human_ref_name_and_boundaries):\n",
    "    human_cds_boundaries[e[0]] = e[1][1]"
   ]
  },
  {
   "cell_type": "code",
   "execution_count": 9,
   "id": "411f6442",
   "metadata": {},
   "outputs": [],
   "source": [
    "mouse_ribo = Ribo(mouse_ribo_file)"
   ]
  },
  {
   "cell_type": "code",
   "execution_count": 10,
   "id": "a67aa91f",
   "metadata": {},
   "outputs": [],
   "source": [
    "def get_coverage_at_length(this_ribo, experiment, rpf_length):\n",
    "    return this_ribo.get_coverage(experiment  = experiment,\n",
    "                                  range_lower = rpf_length, \n",
    "                                  range_upper = rpf_length)\n",
    "\n",
    "def make_coverage_dict_of_experiment(this_ribo, experiment, len_min, len_max):\n",
    "    result_dict = defaultdict(dict)\n",
    "    \n",
    "    for i in range(len_min, len_max + 1):\n",
    "        result_dict[i] = get_coverage_at_length(this_ribo, experiment, i)\n",
    "        \n",
    "    return result_dict"
   ]
  },
  {
   "cell_type": "code",
   "execution_count": 11,
   "id": "2eed6058",
   "metadata": {},
   "outputs": [],
   "source": [
    "MII_1_coverages = make_coverage_dict_of_experiment(mouse_ribo, \n",
    "                                                   experiment = \"20210301-ITP-MII-25-B\", \n",
    "                                                   len_min    = LEN_MIN, \n",
    "                                                   len_max    = LEN_MAX )"
   ]
  },
  {
   "cell_type": "code",
   "execution_count": 12,
   "id": "f3193040",
   "metadata": {},
   "outputs": [
    {
     "data": {
      "text/plain": [
       "[29, 30, 31, 32, 33, 34, 35]"
      ]
     },
     "execution_count": 12,
     "metadata": {},
     "output_type": "execute_result"
    }
   ],
   "source": [
    "list(MII_1_coverages.keys())"
   ]
  },
  {
   "cell_type": "code",
   "execution_count": 13,
   "id": "09bfbf01",
   "metadata": {},
   "outputs": [],
   "source": [
    "def init_frame_triplet():\n",
    "    return [0, 0, 0]\n",
    "\n",
    "def count_nucleotides(coverage_dict, \n",
    "                      cds_annotation_dict, \n",
    "                      sequence_dict, \n",
    "                      rpf_len,\n",
    "                      left_span = 2, right_span = 1 ):\n",
    "    \"\"\"\n",
    "    Given a footprint length, this functio creates a table where each row\n",
    "    comes from nucleotide sequences\n",
    "    and the three columns correspond to the frames 0,1,2\n",
    "    \n",
    "    coverage_dict:\n",
    "       gene_identifier -> coverage vector\n",
    "       \n",
    "    cds_annotation_dict:\n",
    "       gene_identifier -> [cds_start, cds_end]\n",
    "       \n",
    "    sequence_dict:\n",
    "       gene_identifier -> gene_sequence\n",
    "       \n",
    "    rpf_len:\n",
    "       read length, ribosome protected footpront length\n",
    "       \n",
    "    left_span:  the last nucleotides before the 3' end of the read \n",
    "    \n",
    "    right_span: the first nucleotides  the 3' end of the read\n",
    "    \n",
    "    \"\"\"\n",
    "    \n",
    "    nuc_counts = defaultdict(init_frame_triplet)\n",
    "    \n",
    "    \n",
    "    for gene, coverage in coverage_dict.items():\n",
    "        for position in range( cds_annotation_dict[gene][0], cds_annotation_dict[gene][1] ):\n",
    "            if coverage[position] == 0:\n",
    "                continue\n",
    "                \n",
    "            this_sequence     = sequence_dict[gene][position + rpf_len - left_span: \\\n",
    "                                                    position + rpf_len + right_span]\n",
    "            \n",
    "            if \"N\" in this_sequence:\n",
    "                continue\n",
    "            \n",
    "            relative_position = position - cds_annotation_dict[gene][0]\n",
    "            \n",
    "            this_frame = relative_position % 3\n",
    "            \n",
    "            nuc_counts[this_sequence][this_frame] += coverage[position]\n",
    "        \n",
    "    return nuc_counts"
   ]
  },
  {
   "cell_type": "code",
   "execution_count": 14,
   "id": "ae9bcb24",
   "metadata": {},
   "outputs": [],
   "source": [
    "def count_nucleotides_parallel( coverage_dict, \n",
    "                                cds_annotation_dict, \n",
    "                                sequence_dict, \n",
    "                                rpf_min, \n",
    "                                rpf_max,\n",
    "                                processes = 6,\n",
    "                                left_span = 2, right_span = 1 ):\n",
    "    \n",
    "    \"\"\"\n",
    "    Wrapper for the function `count_nucleotides`.\n",
    "    \n",
    "    \n",
    "    It takes a range of ribosome protected footprint lengths and runs count_nucletides\n",
    "    function on these individual lengths.\n",
    "    \n",
    "    \"\"\"\n",
    "    \n",
    "    rpf_range = list(range(rpf_min, rpf_max + 1))\n",
    "    \n",
    "    # Without this global, we have an error at the Pool.map step.\n",
    "    global f\n",
    "    \n",
    "    def f(x):\n",
    "       return count_nucleotides( coverage_dict[x], cds_annotation_dict, sequence_dict, rpf_len = x,\n",
    "                      left_span = left_span, right_span = right_span ) \n",
    "    \n",
    "    with Pool(processes) as p:\n",
    "        mapped_list = p.map(f, rpf_range)\n",
    "        \n",
    "    return(mapped_list)\n",
    "        \n"
   ]
  },
  {
   "cell_type": "code",
   "execution_count": null,
   "id": "43af7872",
   "metadata": {},
   "outputs": [],
   "source": []
  },
  {
   "cell_type": "code",
   "execution_count": 15,
   "id": "1a0908fd",
   "metadata": {},
   "outputs": [],
   "source": [
    "MII_1_counts = count_nucleotides_parallel( \n",
    "                                coverage_dict = MII_1_coverages, \n",
    "                                cds_annotation_dict = mouse_cds_boundaries, \n",
    "                                sequence_dict = mouse_sequences, \n",
    "                                rpf_min = LEN_MIN, \n",
    "                                rpf_max = LEN_MAX,\n",
    "                                processes = 4,\n",
    "                                left_span = 2, right_span = 1 )"
   ]
  },
  {
   "cell_type": "code",
   "execution_count": 16,
   "id": "a8ce6024",
   "metadata": {},
   "outputs": [
    {
     "data": {
      "text/plain": [
       "[176, 131, 60]"
      ]
     },
     "execution_count": 16,
     "metadata": {},
     "output_type": "execute_result"
    }
   ],
   "source": [
    "MII_1_counts[1]['AGA']"
   ]
  },
  {
   "cell_type": "code",
   "execution_count": null,
   "id": "e4d5b558",
   "metadata": {},
   "outputs": [],
   "source": []
  },
  {
   "cell_type": "code",
   "execution_count": 17,
   "id": "c7142197",
   "metadata": {},
   "outputs": [],
   "source": [
    "def max_by_cyclic_shift(df):\n",
    "    \"\"\"\n",
    "    Bring maximal counts in the frames to the frame 0 for each length.\n",
    "    This is done via a cyclic shift so that the maximal is at frame 0.\n",
    "    \"\"\"\n",
    "    adjusted_tuples = []\n",
    "\n",
    "    for r,v in df.iterrows():\n",
    "        max_index      = np.argmax(v)\n",
    "        adjusted_tuple = [v[ (i + max_index) % 3] for i in range(3)  ]\n",
    "        adjusted_tuples.append(adjusted_tuple)\n",
    "\n",
    "    mydf = pd.DataFrame(adjusted_tuples)\n",
    "    \n",
    "    return mydf\n",
    "    \n",
    "    \n",
    "def _adjust_p_sites(nucleotide_counts_list):\n",
    "    \"\"\"\n",
    "    Reports a dataframe where frames are reported per length\n",
    "    \"\"\"\n",
    "    summed_frames_per_length = []\n",
    "    \n",
    "    \n",
    "    # Sum the values for the frames 0,1,2\n",
    "    # collect them in a dataframe df_s\n",
    "    for nuc_counts in nucleotide_counts_list:\n",
    "        df = pd.DataFrame(nuc_counts)\n",
    "        summed_frames_per_length.append( df.sum(axis=1) )\n",
    "        \n",
    "    summed_frames_df       = pd.DataFrame(summed_frames_per_length)\n",
    "    p_site_adjusted_frames = max_by_cyclic_shift(summed_frames_df)\n",
    "    \n",
    "    return p_site_adjusted_frames\n",
    "\n",
    "def adjust_p_sites(nucleotide_counts_list):\n",
    "    adjusted_df = _adjust_p_sites(nucleotide_counts_list)\n",
    "    \n",
    "    return adjusted_df.sum(axis=0)\n",
    "\n",
    "def calculate_periodicity_percentage(npseries):\n",
    "    \n",
    "    return 100 * ( npseries / np.sum(npseries) )\n",
    "\n",
    "\n",
    "def _adjust_frames_by_sequence_indiv_length(nucleotide_counts_df):\n",
    "    adjusted_frames = max_by_cyclic_shift(nucleotide_counts_df)\n",
    "    \n",
    "    return adjusted_frames.sum(axis = 0)\n",
    "\n",
    "def adjust_frames_by_sequence(nucleotide_counts_list):\n",
    "    result = [0, 0, 0]\n",
    "    \n",
    "    for current_len_data in nucleotide_counts_list:\n",
    "        this_df            = pd.DataFrame(current_len_data).transpose()\n",
    "        this_adjusted_list = _adjust_frames_by_sequence_indiv_length(this_df)\n",
    "        result += this_adjusted_list\n",
    "        \n",
    "    return (result)\n",
    "\n"
   ]
  },
  {
   "cell_type": "code",
   "execution_count": null,
   "id": "e08bff65",
   "metadata": {},
   "outputs": [],
   "source": [
    " "
   ]
  },
  {
   "cell_type": "code",
   "execution_count": 18,
   "id": "73e671f1",
   "metadata": {},
   "outputs": [],
   "source": [
    "sample_df_1 = pd.DataFrame(MII_1_counts[1]).transpose()"
   ]
  },
  {
   "cell_type": "code",
   "execution_count": 19,
   "id": "ec953832",
   "metadata": {},
   "outputs": [
    {
     "data": {
      "text/plain": [
       "0    46.670737\n",
       "1    26.450915\n",
       "2    26.878348\n",
       "dtype: float64"
      ]
     },
     "execution_count": 19,
     "metadata": {},
     "output_type": "execute_result"
    }
   ],
   "source": [
    "a = adjust_frames_by_sequence(MII_1_counts)\n",
    "calculate_periodicity_percentage(a)"
   ]
  },
  {
   "cell_type": "code",
   "execution_count": null,
   "id": "5363507a",
   "metadata": {},
   "outputs": [
    {
     "name": "stdout",
     "output_type": "stream",
     "text": [
      "20210301-ITP-MII-25-B\n",
      "20210301-ITP-MII-50-A\n",
      "20210301-ITP-MII-50-B\n",
      "20210318-ITP-MII-50-B\n"
     ]
    }
   ],
   "source": [
    "experiments = mouse_ribo.experiments\n",
    "\n",
    "nucleotide_counts_2_1 = dict()\n",
    "nucleotide_counts_0_1 = dict()\n",
    "\n",
    "for e in experiments:\n",
    "    print(e)\n",
    "    this_coverage = make_coverage_dict_of_experiment(\n",
    "                            mouse_ribo, \n",
    "                            experiment = e, \n",
    "                            len_min    = LEN_MIN, \n",
    "                            len_max    = LEN_MAX )\n",
    "    \n",
    "    nucleotide_counts_2_1[e] = count_nucleotides_parallel( \n",
    "                                    coverage_dict       = this_coverage, \n",
    "                                    cds_annotation_dict = mouse_cds_boundaries ,\n",
    "                                    sequence_dict       = mouse_sequences, \n",
    "                                    rpf_min = LEN_MIN, rpf_max = LEN_MAX,\n",
    "                                    left_span           = 2, \n",
    "                                    right_span          = 1 )\n",
    "    \n",
    "    nucleotide_counts_0_1[e] = count_nucleotides_parallel( \n",
    "                                    coverage_dict       = this_coverage, \n",
    "                                    cds_annotation_dict = mouse_cds_boundaries ,\n",
    "                                    sequence_dict       = mouse_sequences, \n",
    "                                    rpf_min = LEN_MIN, rpf_max = LEN_MAX,\n",
    "                                    left_span           = 0, \n",
    "                                    right_span          = 1 )   \n"
   ]
  },
  {
   "cell_type": "code",
   "execution_count": null,
   "id": "17321c9a",
   "metadata": {},
   "outputs": [],
   "source": []
  },
  {
   "cell_type": "code",
   "execution_count": null,
   "id": "26477beb",
   "metadata": {},
   "outputs": [],
   "source": [
    "this_adjusted_frames = adjust_frames_by_sequence(nucleotide_counts_2_1[mouse_ribo.experiments[3]]  )\n",
    "calculate_periodicity_percentage(this_adjusted_frames)"
   ]
  },
  {
   "cell_type": "code",
   "execution_count": null,
   "id": "cb19f751",
   "metadata": {},
   "outputs": [],
   "source": [
    "this_adjusted_frames = adjust_p_sites(nucleotide_counts_2_1[mouse_ribo.experiments[3]]  )\n",
    "calculate_periodicity_percentage(this_adjusted_frames)"
   ]
  },
  {
   "cell_type": "code",
   "execution_count": null,
   "id": "651a81b7",
   "metadata": {},
   "outputs": [],
   "source": [
    "20210301-ITP-MII-50-B"
   ]
  },
  {
   "cell_type": "code",
   "execution_count": null,
   "id": "2a03c600",
   "metadata": {
    "scrolled": true
   },
   "outputs": [],
   "source": [
    "mouse_adjusted_frame_percentages = dict()\n",
    "mouse_raw_frame_percentages      = dict()\n",
    "\n",
    "for e in mouse_ribo.experiments:\n",
    "    adjusted_frames            = adjust_frames_by_sequence(nucleotide_counts_2_1[e]  )\n",
    "    p_raw_frames               = adjust_p_sites(nucleotide_counts_2_1[e])\n",
    "    \n",
    "    mouse_raw_frame_percentages[e]      = calculate_periodicity_percentage(p_raw_frames)\n",
    "    mouse_adjusted_frame_percentages[e] = calculate_periodicity_percentage(adjusted_frames)    "
   ]
  },
  {
   "cell_type": "code",
   "execution_count": null,
   "id": "d799b23f",
   "metadata": {},
   "outputs": [],
   "source": [
    "mouse_adjusted_frame_percentages_df = pd.DataFrame(mouse_adjusted_frame_percentages).transpose()\n",
    "mouse_raw_frame_percentages_df = pd.DataFrame(mouse_raw_frame_percentages).transpose()"
   ]
  },
  {
   "cell_type": "code",
   "execution_count": null,
   "id": "27b7263f",
   "metadata": {},
   "outputs": [],
   "source": [
    "mouse_adjusted_frame_percentages_df.to_csv(\"mouse_adjusted_frame_percentages.csv\")"
   ]
  },
  {
   "cell_type": "code",
   "execution_count": null,
   "id": "0d60dcfb",
   "metadata": {},
   "outputs": [],
   "source": [
    "mouse_raw_frame_percentages_df"
   ]
  },
  {
   "cell_type": "code",
   "execution_count": null,
   "id": "100dafde",
   "metadata": {},
   "outputs": [],
   "source": [
    "mouse_raw_frame_percentages_df.to_csv(\"mouse_raw_frame_percentages.csv\")"
   ]
  },
  {
   "cell_type": "code",
   "execution_count": null,
   "id": "9ce8818d",
   "metadata": {},
   "outputs": [],
   "source": []
  },
  {
   "cell_type": "code",
   "execution_count": null,
   "id": "1e350074",
   "metadata": {},
   "outputs": [],
   "source": [
    "mouse_raw_frame_percentages_df"
   ]
  },
  {
   "cell_type": "markdown",
   "id": "aa25ac1a",
   "metadata": {},
   "source": [
    "--------------------------------------------------------"
   ]
  },
  {
   "cell_type": "markdown",
   "id": "485e1496",
   "metadata": {},
   "source": [
    "## HUMAN DATA"
   ]
  },
  {
   "cell_type": "code",
   "execution_count": null,
   "id": "c961cc4d",
   "metadata": {},
   "outputs": [],
   "source": [
    "human_ribo.experiments"
   ]
  },
  {
   "cell_type": "code",
   "execution_count": null,
   "id": "f07333e7",
   "metadata": {},
   "outputs": [],
   "source": [
    "human_experiments = human_ribo.experiments\n",
    "\n",
    "\n",
    "human_nucleotide_counts_2_1 = dict()\n",
    "\n",
    "\n",
    "for e in human_experiments:\n",
    "    print(e)\n",
    "    this_coverage = make_coverage_dict_of_experiment(\n",
    "                            human_ribo, \n",
    "                            experiment = e, \n",
    "                            len_min    = LEN_MIN, \n",
    "                            len_max    = LEN_MAX )\n",
    "    \n",
    "    \n",
    "    human_nucleotide_counts_2_1[e] = count_nucleotides_parallel( \n",
    "                                    coverage_dict       = this_coverage, \n",
    "                                    cds_annotation_dict = human_cds_boundaries ,\n",
    "                                    sequence_dict       = human_sequences, \n",
    "                                    rpf_min = LEN_MIN, rpf_max = LEN_MAX,\n",
    "                                    left_span           = 2, \n",
    "                                    right_span          = 1 )   \n",
    "\n"
   ]
  },
  {
   "cell_type": "code",
   "execution_count": null,
   "id": "8db2b8a3",
   "metadata": {},
   "outputs": [],
   "source": [
    "human_adjusted_frame_percentages = dict()\n",
    "human_raw_frame_percentages      = dict()\n",
    "\n",
    "for e in human_ribo.experiments:\n",
    "    adjusted_frames            = adjust_frames_by_sequence(human_nucleotide_counts_2_1[e]  )\n",
    "    p_raw_frames               = adjust_p_sites(human_nucleotide_counts_2_1[e])\n",
    "    \n",
    "    human_raw_frame_percentages[e]      = calculate_periodicity_percentage(p_raw_frames)\n",
    "    human_adjusted_frame_percentages[e] = calculate_periodicity_percentage(adjusted_frames) "
   ]
  },
  {
   "cell_type": "code",
   "execution_count": null,
   "id": "ad96f5d1",
   "metadata": {},
   "outputs": [],
   "source": [
    "human_raw_frame_percentages_df = pd.DataFrame(human_raw_frame_percentages).transpose()\n",
    "human_raw_frame_percentages_df.to_csv(\"human_raw_frame_percentages.csv\")\n",
    "human_raw_frame_percentages_df"
   ]
  },
  {
   "cell_type": "code",
   "execution_count": null,
   "id": "da1ec131",
   "metadata": {},
   "outputs": [],
   "source": [
    "human_adjusted_frame_percentages_df = pd.DataFrame(human_adjusted_frame_percentages).transpose()\n",
    "human_adjusted_frame_percentages_df.to_csv(\"human_adjusted_frame_percentages.csv\")\n",
    "human_adjusted_frame_percentages_df"
   ]
  },
  {
   "cell_type": "code",
   "execution_count": null,
   "id": "1f67217c",
   "metadata": {},
   "outputs": [],
   "source": []
  },
  {
   "cell_type": "markdown",
   "id": "6a1756db",
   "metadata": {},
   "source": [
    "## Frame Adjustment:\n",
    "### Notes:\n",
    "   Mouse: Adjusted mean percentage, for frame 0 is 46.99% with standard error 0.18\n",
    "   For the mouse data, we used all single cell experiments from GV, MII and 1-cell embryo stages.\n",
    "   \n",
    "   Human 100-cell:  Adjusted mean percentage, for frame 0 is 48.34% with standard error 0.09\n",
    "   Human Monosome: Adjusted percentage, for frame 0 is 47.58% with standard error 0.13\n",
    "   \n",
    "### Frame Adjustment:\n",
    "   For a read, we define its frame to be the difference between module 3 of the \n",
    "   difference between the 5' end of the read and the translation start site.\n",
    "   \n",
    "   For each RPF length, we considered the last two nucleotides at the 3' end of the read\n",
    "   and one nucleotide downstream of the 3' end.\n",
    "   For each of these triplets of these nucleotides, we counted the number of reads\n",
    "   mapping to the frames 0,1,2.\n",
    "   \n",
    "   Then we applied cyclic shifts to each triplet so that the maximum value is at frame 0.\n",
    "   After aggregating all triplets for all RPF lengths,\n",
    "   we obtain the total adjusted counts of the frames 0, 1, 2.\n",
    "   \n",
    "  "
   ]
  },
  {
   "cell_type": "markdown",
   "id": "4a0649f1",
   "metadata": {},
   "source": [
    "## P-Value Calculation\n",
    "\n",
    "We compare the distribution of the frames to the uniform distribution.\n",
    "\n"
   ]
  },
  {
   "cell_type": "code",
   "execution_count": null,
   "id": "af415c24",
   "metadata": {},
   "outputs": [],
   "source": [
    "adjusted_frames"
   ]
  }
 ],
 "metadata": {
  "kernelspec": {
   "display_name": "Python 3",
   "language": "python",
   "name": "python3"
  },
  "language_info": {
   "codemirror_mode": {
    "name": "ipython",
    "version": 3
   },
   "file_extension": ".py",
   "mimetype": "text/x-python",
   "name": "python",
   "nbconvert_exporter": "python",
   "pygments_lexer": "ipython3",
   "version": "3.6.15"
  }
 },
 "nbformat": 4,
 "nbformat_minor": 5
}
