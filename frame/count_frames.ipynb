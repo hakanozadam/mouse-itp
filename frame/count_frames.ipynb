{
 "cells": [
  {
   "cell_type": "code",
   "execution_count": null,
   "id": "6fcfc32e",
   "metadata": {},
   "outputs": [],
   "source": []
  },
  {
   "cell_type": "code",
   "execution_count": 49,
   "id": "3c80ae2c",
   "metadata": {},
   "outputs": [],
   "source": [
    "import sys\n",
    "from collections import defaultdict\n",
    "import multiprocessing\n",
    "from multiprocessing import Pool\n",
    "from functools import partial\n",
    "import timeit\n",
    "\n",
    "import ribopy\n",
    "from ribopy import Ribo\n",
    "from ribopy.core.get_gadgets import get_region_boundaries, get_reference_names\n",
    "\n",
    "import numpy as np\n",
    "import pandas as pd\n",
    "import scipy.stats\n",
    "\n",
    "sys.path.insert(0, '../snp')\n",
    "from ref_lib.Fasta import FastaEntry, FastaFile"
   ]
  },
  {
   "cell_type": "code",
   "execution_count": 2,
   "id": "d42c7c6c",
   "metadata": {},
   "outputs": [],
   "source": [
    "mouse_transcriptome_file = \"../../mouse_itp_reference/transcriptome/varnt_masked_and_filtered_mouse_transcriptome.fa.gz\"\n",
    "human_transcriptome_file = \"../../../itp/human_itp_reference/transcriptome/appris_human_v2_after_filtering.fa.gz\"\n",
    "\n",
    "mouse_ribo_file = \"../../mouse-itp_v5.ribo\"\n",
    "human_ribo_file = \"../../../itp/human-itp_v4.ribo\"\n",
    "\n",
    "LEN_MIN = 29\n",
    "LEN_MAX = 35"
   ]
  },
  {
   "cell_type": "code",
   "execution_count": 3,
   "id": "88d65df3",
   "metadata": {},
   "outputs": [],
   "source": [
    "mouse_sequences = dict()\n",
    "\n",
    "with FastaFile(mouse_transcriptome_file) as mouse_transcriptome:\n",
    "    for entry in mouse_transcriptome:\n",
    "        mouse_sequences[ entry.header ] = entry.sequence\n",
    "\n"
   ]
  },
  {
   "cell_type": "code",
   "execution_count": 4,
   "id": "0a3c62e9",
   "metadata": {},
   "outputs": [],
   "source": [
    "human_sequences = dict()\n",
    "\n",
    "with FastaFile(human_transcriptome_file) as human_transcriptome:\n",
    "    for entry in human_transcriptome:\n",
    "        human_sequences[ entry.header ] = entry.sequence\n"
   ]
  },
  {
   "cell_type": "code",
   "execution_count": 5,
   "id": "54b1ccfa",
   "metadata": {},
   "outputs": [],
   "source": [
    "mouse_ribo = Ribo(mouse_ribo_file)"
   ]
  },
  {
   "cell_type": "code",
   "execution_count": 6,
   "id": "ee6a6ef0",
   "metadata": {},
   "outputs": [],
   "source": [
    "human_ribo = Ribo(human_ribo_file)"
   ]
  },
  {
   "cell_type": "code",
   "execution_count": 7,
   "id": "d0924444",
   "metadata": {},
   "outputs": [],
   "source": [
    "mouse_region_boundaries = get_region_boundaries(mouse_ribo._handle)\n",
    "mouse_gene_names        = get_reference_names(mouse_ribo._handle)\n",
    "\n",
    "mouse_ref_name_and_boundaries = zip(mouse_gene_names, mouse_region_boundaries)\n",
    "\n",
    "mouse_cds_boundaries = dict()\n",
    "\n",
    "for e in list(mouse_ref_name_and_boundaries):\n",
    "    mouse_cds_boundaries[e[0]] = e[1][1]"
   ]
  },
  {
   "cell_type": "code",
   "execution_count": 8,
   "id": "2e9cce11",
   "metadata": {},
   "outputs": [],
   "source": [
    "human_region_boundaries = get_region_boundaries(human_ribo._handle)\n",
    "human_gene_names        = get_reference_names(human_ribo._handle)\n",
    "\n",
    "human_ref_name_and_boundaries = zip(human_gene_names, human_region_boundaries)\n",
    "\n",
    "human_cds_boundaries = dict()\n",
    "\n",
    "for e in list(human_ref_name_and_boundaries):\n",
    "    human_cds_boundaries[e[0]] = e[1][1]"
   ]
  },
  {
   "cell_type": "code",
   "execution_count": 9,
   "id": "411f6442",
   "metadata": {},
   "outputs": [],
   "source": [
    "mouse_ribo = Ribo(mouse_ribo_file)"
   ]
  },
  {
   "cell_type": "code",
   "execution_count": 10,
   "id": "a67aa91f",
   "metadata": {},
   "outputs": [],
   "source": [
    "def get_coverage_at_length(this_ribo, experiment, rpf_length):\n",
    "    return this_ribo.get_coverage(experiment  = experiment,\n",
    "                                  range_lower = rpf_length, \n",
    "                                  range_upper = rpf_length)\n",
    "\n",
    "def make_coverage_dict_of_experiment(this_ribo, experiment, len_min, len_max):\n",
    "    result_dict = defaultdict(dict)\n",
    "    \n",
    "    for i in range(len_min, len_max + 1):\n",
    "        result_dict[i] = get_coverage_at_length(this_ribo, experiment, i)\n",
    "        \n",
    "    return result_dict"
   ]
  },
  {
   "cell_type": "code",
   "execution_count": 11,
   "id": "2eed6058",
   "metadata": {},
   "outputs": [],
   "source": [
    "MII_1_coverages = make_coverage_dict_of_experiment(mouse_ribo, \n",
    "                                                   experiment = \"20210301-ITP-MII-25-B\", \n",
    "                                                   len_min    = LEN_MIN, \n",
    "                                                   len_max    = LEN_MAX )"
   ]
  },
  {
   "cell_type": "code",
   "execution_count": 12,
   "id": "f3193040",
   "metadata": {},
   "outputs": [
    {
     "data": {
      "text/plain": [
       "[29, 30, 31, 32, 33, 34, 35]"
      ]
     },
     "execution_count": 12,
     "metadata": {},
     "output_type": "execute_result"
    }
   ],
   "source": [
    "list(MII_1_coverages.keys())"
   ]
  },
  {
   "cell_type": "code",
   "execution_count": 13,
   "id": "09bfbf01",
   "metadata": {},
   "outputs": [],
   "source": [
    "def init_frame_triplet():\n",
    "    return [0, 0, 0]\n",
    "\n",
    "def count_nucleotides(coverage_dict, \n",
    "                      cds_annotation_dict, \n",
    "                      sequence_dict, \n",
    "                      rpf_len,\n",
    "                      left_span = 2, right_span = 1 ):\n",
    "    \"\"\"\n",
    "    Given a footprint length, this functio creates a table where each row\n",
    "    comes from nucleotide sequences\n",
    "    and the three columns correspond to the frames 0,1,2\n",
    "    \n",
    "    coverage_dict:\n",
    "       gene_identifier -> coverage vector\n",
    "       \n",
    "    cds_annotation_dict:\n",
    "       gene_identifier -> [cds_start, cds_end]\n",
    "       \n",
    "    sequence_dict:\n",
    "       gene_identifier -> gene_sequence\n",
    "       \n",
    "    rpf_len:\n",
    "       read length, ribosome protected footpront length\n",
    "       \n",
    "    left_span:  the last nucleotides before the 3' end of the read \n",
    "    \n",
    "    right_span: the first nucleotides  the 3' end of the read\n",
    "    \n",
    "    \"\"\"\n",
    "    \n",
    "    nuc_counts = defaultdict(init_frame_triplet)\n",
    "    \n",
    "    \n",
    "    for gene, coverage in coverage_dict.items():\n",
    "        for position in range( cds_annotation_dict[gene][0], cds_annotation_dict[gene][1] ):\n",
    "            if coverage[position] == 0:\n",
    "                continue\n",
    "                \n",
    "            this_sequence     = sequence_dict[gene][position + rpf_len - left_span: \\\n",
    "                                                    position + rpf_len + right_span]\n",
    "            \n",
    "            if \"N\" in this_sequence:\n",
    "                continue\n",
    "            \n",
    "            relative_position = position - cds_annotation_dict[gene][0]\n",
    "            \n",
    "            this_frame = relative_position % 3\n",
    "            \n",
    "            nuc_counts[this_sequence][this_frame] += coverage[position]\n",
    "        \n",
    "    return nuc_counts"
   ]
  },
  {
   "cell_type": "code",
   "execution_count": 14,
   "id": "ae9bcb24",
   "metadata": {},
   "outputs": [],
   "source": [
    "def count_nucleotides_parallel( coverage_dict, \n",
    "                                cds_annotation_dict, \n",
    "                                sequence_dict, \n",
    "                                rpf_min, \n",
    "                                rpf_max,\n",
    "                                processes = 6,\n",
    "                                left_span = 2, right_span = 1 ):\n",
    "    \n",
    "    \"\"\"\n",
    "    Wrapper for the function `count_nucleotides`.\n",
    "    \n",
    "    \n",
    "    It takes a range of ribosome protected footprint lengths and runs count_nucletides\n",
    "    function on these individual lengths.\n",
    "    \n",
    "    \"\"\"\n",
    "    \n",
    "    rpf_range = list(range(rpf_min, rpf_max + 1))\n",
    "    \n",
    "    # Without this global, we have an error at the Pool.map step.\n",
    "    global f\n",
    "    \n",
    "    def f(x):\n",
    "       return count_nucleotides( coverage_dict[x], cds_annotation_dict, sequence_dict, rpf_len = x,\n",
    "                      left_span = left_span, right_span = right_span ) \n",
    "    \n",
    "    with Pool(processes) as p:\n",
    "        mapped_list = p.map(f, rpf_range)\n",
    "        \n",
    "    return(mapped_list)\n",
    "        \n"
   ]
  },
  {
   "cell_type": "code",
   "execution_count": null,
   "id": "43af7872",
   "metadata": {},
   "outputs": [],
   "source": []
  },
  {
   "cell_type": "code",
   "execution_count": 15,
   "id": "1a0908fd",
   "metadata": {},
   "outputs": [],
   "source": [
    "MII_1_counts = count_nucleotides_parallel( \n",
    "                                coverage_dict = MII_1_coverages, \n",
    "                                cds_annotation_dict = mouse_cds_boundaries, \n",
    "                                sequence_dict = mouse_sequences, \n",
    "                                rpf_min = LEN_MIN, \n",
    "                                rpf_max = LEN_MAX,\n",
    "                                processes = 4,\n",
    "                                left_span = 2, right_span = 1 )"
   ]
  },
  {
   "cell_type": "code",
   "execution_count": 16,
   "id": "a8ce6024",
   "metadata": {},
   "outputs": [
    {
     "data": {
      "text/plain": [
       "[176, 131, 60]"
      ]
     },
     "execution_count": 16,
     "metadata": {},
     "output_type": "execute_result"
    }
   ],
   "source": [
    "MII_1_counts[1]['AGA']"
   ]
  },
  {
   "cell_type": "code",
   "execution_count": null,
   "id": "e4d5b558",
   "metadata": {},
   "outputs": [],
   "source": []
  },
  {
   "cell_type": "code",
   "execution_count": 17,
   "id": "c7142197",
   "metadata": {},
   "outputs": [],
   "source": [
    "def max_by_cyclic_shift(df):\n",
    "    \"\"\"\n",
    "    Bring maximal counts in the frames to the frame 0 for each length.\n",
    "    This is done via a cyclic shift so that the maximal is at frame 0.\n",
    "    \"\"\"\n",
    "    adjusted_tuples = []\n",
    "\n",
    "    for r,v in df.iterrows():\n",
    "        max_index      = np.argmax(v)\n",
    "        adjusted_tuple = [v[ (i + max_index) % 3] for i in range(3)  ]\n",
    "        adjusted_tuples.append(adjusted_tuple)\n",
    "\n",
    "    mydf = pd.DataFrame(adjusted_tuples)\n",
    "    \n",
    "    return mydf\n",
    "    \n",
    "    \n",
    "def _adjust_p_sites(nucleotide_counts_list):\n",
    "    \"\"\"\n",
    "    Reports a dataframe where frames are reported per length\n",
    "    \"\"\"\n",
    "    summed_frames_per_length = []\n",
    "    \n",
    "    \n",
    "    # Sum the values for the frames 0,1,2\n",
    "    # collect them in a dataframe df_s\n",
    "    for nuc_counts in nucleotide_counts_list:\n",
    "        df = pd.DataFrame(nuc_counts)\n",
    "        summed_frames_per_length.append( df.sum(axis=1) )\n",
    "        \n",
    "    summed_frames_df       = pd.DataFrame(summed_frames_per_length)\n",
    "    p_site_adjusted_frames = max_by_cyclic_shift(summed_frames_df)\n",
    "    \n",
    "    return p_site_adjusted_frames\n",
    "\n",
    "def adjust_p_sites(nucleotide_counts_list):\n",
    "    adjusted_df = _adjust_p_sites(nucleotide_counts_list)\n",
    "    \n",
    "    return adjusted_df.sum(axis=0)\n",
    "\n",
    "def calculate_periodicity_percentage(npseries):\n",
    "    \n",
    "    return 100 * ( npseries / np.sum(npseries) )\n",
    "\n",
    "\n",
    "def _adjust_frames_by_sequence_indiv_length(nucleotide_counts_df):\n",
    "    adjusted_frames = max_by_cyclic_shift(nucleotide_counts_df)\n",
    "    \n",
    "    return adjusted_frames.sum(axis = 0)\n",
    "\n",
    "def adjust_frames_by_sequence(nucleotide_counts_list):\n",
    "    result = [0, 0, 0]\n",
    "    \n",
    "    for current_len_data in nucleotide_counts_list:\n",
    "        this_df            = pd.DataFrame(current_len_data).transpose()\n",
    "        this_adjusted_list = _adjust_frames_by_sequence_indiv_length(this_df)\n",
    "        result += this_adjusted_list\n",
    "        \n",
    "    return (result)\n",
    "\n"
   ]
  },
  {
   "cell_type": "code",
   "execution_count": null,
   "id": "e08bff65",
   "metadata": {},
   "outputs": [],
   "source": [
    " "
   ]
  },
  {
   "cell_type": "code",
   "execution_count": 18,
   "id": "73e671f1",
   "metadata": {},
   "outputs": [],
   "source": [
    "sample_df_1 = pd.DataFrame(MII_1_counts[1]).transpose()"
   ]
  },
  {
   "cell_type": "code",
   "execution_count": 19,
   "id": "ec953832",
   "metadata": {},
   "outputs": [
    {
     "data": {
      "text/plain": [
       "0    46.670737\n",
       "1    26.450915\n",
       "2    26.878348\n",
       "dtype: float64"
      ]
     },
     "execution_count": 19,
     "metadata": {},
     "output_type": "execute_result"
    }
   ],
   "source": [
    "a = adjust_frames_by_sequence(MII_1_counts)\n",
    "calculate_periodicity_percentage(a)"
   ]
  },
  {
   "cell_type": "code",
   "execution_count": 20,
   "id": "5363507a",
   "metadata": {},
   "outputs": [
    {
     "name": "stdout",
     "output_type": "stream",
     "text": [
      "20210301-ITP-MII-25-B\n",
      "20210301-ITP-MII-50-A\n",
      "20210301-ITP-MII-50-B\n",
      "20210318-ITP-MII-50-B\n",
      "20210513-ITP-1cell-cross-50-A\n",
      "20210513-ITP-1cell-cross-50-B\n",
      "20210513-ITP-1cell-cross-50-C\n",
      "20210513-ITP-1cell-cross-50-D\n",
      "20210513-ITP-1cell-cross-50-E\n",
      "20210513-ITP-2cell-cross-50-B\n",
      "20210513-ITP-2cell-cross-50-C\n",
      "20210513-ITP-2cell-cross-50-F\n",
      "20210513-ITP-4cell-cross-50-B\n",
      "20210513-ITP-4cell-cross-50-C\n",
      "20210513-ITP-4cell-cross-50-D\n",
      "20210513-ITP-8cell-cross-50-A\n",
      "20210513-ITP-8cell-cross-50-B\n",
      "20210513-ITP-8cell-cross-50-C\n",
      "20210513-ITP-8cell-cross-50-D\n",
      "20210614-ITP-GV-50-A\n",
      "20210614-ITP-GV-50-B\n",
      "20210614-ITP-GV-50-C\n",
      "20210614-ITP-GV-50-E\n",
      "20210614-ITP-GV-50-F\n",
      "20210614-ITP-MII-50-D\n"
     ]
    }
   ],
   "source": [
    "experiments = mouse_ribo.experiments\n",
    "\n",
    "nucleotide_counts_2_1 = dict()\n",
    "nucleotide_counts_0_1 = dict()\n",
    "\n",
    "for e in experiments:\n",
    "    print(e)\n",
    "    this_coverage = make_coverage_dict_of_experiment(\n",
    "                            mouse_ribo, \n",
    "                            experiment = e, \n",
    "                            len_min    = LEN_MIN, \n",
    "                            len_max    = LEN_MAX )\n",
    "    \n",
    "    nucleotide_counts_2_1[e] = count_nucleotides_parallel( \n",
    "                                    coverage_dict       = this_coverage, \n",
    "                                    cds_annotation_dict = mouse_cds_boundaries ,\n",
    "                                    sequence_dict       = mouse_sequences, \n",
    "                                    rpf_min = LEN_MIN, rpf_max = LEN_MAX,\n",
    "                                    left_span           = 2, \n",
    "                                    right_span          = 1 )\n",
    "    \n",
    "    nucleotide_counts_0_1[e] = count_nucleotides_parallel( \n",
    "                                    coverage_dict       = this_coverage, \n",
    "                                    cds_annotation_dict = mouse_cds_boundaries ,\n",
    "                                    sequence_dict       = mouse_sequences, \n",
    "                                    rpf_min = LEN_MIN, rpf_max = LEN_MAX,\n",
    "                                    left_span           = 0, \n",
    "                                    right_span          = 1 )   \n"
   ]
  },
  {
   "cell_type": "code",
   "execution_count": null,
   "id": "17321c9a",
   "metadata": {},
   "outputs": [],
   "source": []
  },
  {
   "cell_type": "code",
   "execution_count": 21,
   "id": "26477beb",
   "metadata": {},
   "outputs": [
    {
     "data": {
      "text/plain": [
       "0    46.120797\n",
       "1    26.120520\n",
       "2    27.758683\n",
       "dtype: float64"
      ]
     },
     "execution_count": 21,
     "metadata": {},
     "output_type": "execute_result"
    }
   ],
   "source": [
    "this_adjusted_frames = adjust_frames_by_sequence(nucleotide_counts_2_1[mouse_ribo.experiments[3]]  )\n",
    "calculate_periodicity_percentage(this_adjusted_frames)"
   ]
  },
  {
   "cell_type": "code",
   "execution_count": 22,
   "id": "cb19f751",
   "metadata": {},
   "outputs": [
    {
     "data": {
      "text/plain": [
       "0    36.300136\n",
       "1    31.971893\n",
       "2    31.727971\n",
       "dtype: float64"
      ]
     },
     "execution_count": 22,
     "metadata": {},
     "output_type": "execute_result"
    }
   ],
   "source": [
    "this_adjusted_frames = adjust_p_sites(nucleotide_counts_2_1[mouse_ribo.experiments[3]]  )\n",
    "calculate_periodicity_percentage(this_adjusted_frames)"
   ]
  },
  {
   "cell_type": "code",
   "execution_count": 24,
   "id": "2a03c600",
   "metadata": {
    "scrolled": true
   },
   "outputs": [],
   "source": [
    "mouse_adjusted_frame_percentages = dict()\n",
    "mouse_raw_frame_percentages      = dict()\n",
    "\n",
    "for e in mouse_ribo.experiments:\n",
    "    adjusted_frames            = adjust_frames_by_sequence(nucleotide_counts_2_1[e]  )\n",
    "    p_raw_frames               = adjust_p_sites(nucleotide_counts_2_1[e])\n",
    "    \n",
    "    mouse_raw_frame_percentages[e]      = calculate_periodicity_percentage(p_raw_frames)\n",
    "    mouse_adjusted_frame_percentages[e] = calculate_periodicity_percentage(adjusted_frames)    "
   ]
  },
  {
   "cell_type": "code",
   "execution_count": 25,
   "id": "d799b23f",
   "metadata": {},
   "outputs": [],
   "source": [
    "mouse_adjusted_frame_percentages_df = pd.DataFrame(mouse_adjusted_frame_percentages).transpose()\n",
    "mouse_raw_frame_percentages_df = pd.DataFrame(mouse_raw_frame_percentages).transpose()"
   ]
  },
  {
   "cell_type": "code",
   "execution_count": 26,
   "id": "27b7263f",
   "metadata": {},
   "outputs": [],
   "source": [
    "mouse_adjusted_frame_percentages_df.to_csv(\"mouse_adjusted_frame_percentages.csv\")"
   ]
  },
  {
   "cell_type": "code",
   "execution_count": 27,
   "id": "0d60dcfb",
   "metadata": {},
   "outputs": [
    {
     "data": {
      "text/html": [
       "<div>\n",
       "<style scoped>\n",
       "    .dataframe tbody tr th:only-of-type {\n",
       "        vertical-align: middle;\n",
       "    }\n",
       "\n",
       "    .dataframe tbody tr th {\n",
       "        vertical-align: top;\n",
       "    }\n",
       "\n",
       "    .dataframe thead th {\n",
       "        text-align: right;\n",
       "    }\n",
       "</style>\n",
       "<table border=\"1\" class=\"dataframe\">\n",
       "  <thead>\n",
       "    <tr style=\"text-align: right;\">\n",
       "      <th></th>\n",
       "      <th>0</th>\n",
       "      <th>1</th>\n",
       "      <th>2</th>\n",
       "    </tr>\n",
       "  </thead>\n",
       "  <tbody>\n",
       "    <tr>\n",
       "      <th>20210301-ITP-MII-25-B</th>\n",
       "      <td>37.489245</td>\n",
       "      <td>32.332288</td>\n",
       "      <td>30.178467</td>\n",
       "    </tr>\n",
       "    <tr>\n",
       "      <th>20210301-ITP-MII-50-A</th>\n",
       "      <td>37.019068</td>\n",
       "      <td>32.112288</td>\n",
       "      <td>30.868644</td>\n",
       "    </tr>\n",
       "    <tr>\n",
       "      <th>20210301-ITP-MII-50-B</th>\n",
       "      <td>36.911532</td>\n",
       "      <td>30.491706</td>\n",
       "      <td>32.596761</td>\n",
       "    </tr>\n",
       "    <tr>\n",
       "      <th>20210318-ITP-MII-50-B</th>\n",
       "      <td>36.300136</td>\n",
       "      <td>31.971893</td>\n",
       "      <td>31.727971</td>\n",
       "    </tr>\n",
       "    <tr>\n",
       "      <th>20210513-ITP-1cell-cross-50-A</th>\n",
       "      <td>37.168580</td>\n",
       "      <td>30.238705</td>\n",
       "      <td>32.592715</td>\n",
       "    </tr>\n",
       "    <tr>\n",
       "      <th>20210513-ITP-1cell-cross-50-B</th>\n",
       "      <td>36.218600</td>\n",
       "      <td>31.001484</td>\n",
       "      <td>32.779916</td>\n",
       "    </tr>\n",
       "    <tr>\n",
       "      <th>20210513-ITP-1cell-cross-50-C</th>\n",
       "      <td>37.133682</td>\n",
       "      <td>32.524691</td>\n",
       "      <td>30.341627</td>\n",
       "    </tr>\n",
       "    <tr>\n",
       "      <th>20210513-ITP-1cell-cross-50-D</th>\n",
       "      <td>36.679381</td>\n",
       "      <td>32.248149</td>\n",
       "      <td>31.072470</td>\n",
       "    </tr>\n",
       "    <tr>\n",
       "      <th>20210513-ITP-1cell-cross-50-E</th>\n",
       "      <td>36.819110</td>\n",
       "      <td>31.516946</td>\n",
       "      <td>31.663944</td>\n",
       "    </tr>\n",
       "    <tr>\n",
       "      <th>20210513-ITP-2cell-cross-50-B</th>\n",
       "      <td>37.605734</td>\n",
       "      <td>30.435105</td>\n",
       "      <td>31.959161</td>\n",
       "    </tr>\n",
       "    <tr>\n",
       "      <th>20210513-ITP-2cell-cross-50-C</th>\n",
       "      <td>36.921174</td>\n",
       "      <td>32.797219</td>\n",
       "      <td>30.281607</td>\n",
       "    </tr>\n",
       "    <tr>\n",
       "      <th>20210513-ITP-2cell-cross-50-F</th>\n",
       "      <td>36.978760</td>\n",
       "      <td>30.359491</td>\n",
       "      <td>32.661749</td>\n",
       "    </tr>\n",
       "    <tr>\n",
       "      <th>20210513-ITP-4cell-cross-50-B</th>\n",
       "      <td>37.133286</td>\n",
       "      <td>31.987393</td>\n",
       "      <td>30.879321</td>\n",
       "    </tr>\n",
       "    <tr>\n",
       "      <th>20210513-ITP-4cell-cross-50-C</th>\n",
       "      <td>36.831841</td>\n",
       "      <td>32.288634</td>\n",
       "      <td>30.879525</td>\n",
       "    </tr>\n",
       "    <tr>\n",
       "      <th>20210513-ITP-4cell-cross-50-D</th>\n",
       "      <td>36.681023</td>\n",
       "      <td>30.684706</td>\n",
       "      <td>32.634270</td>\n",
       "    </tr>\n",
       "    <tr>\n",
       "      <th>20210513-ITP-8cell-cross-50-A</th>\n",
       "      <td>37.566199</td>\n",
       "      <td>29.639677</td>\n",
       "      <td>32.794124</td>\n",
       "    </tr>\n",
       "    <tr>\n",
       "      <th>20210513-ITP-8cell-cross-50-B</th>\n",
       "      <td>36.980073</td>\n",
       "      <td>32.584216</td>\n",
       "      <td>30.435711</td>\n",
       "    </tr>\n",
       "    <tr>\n",
       "      <th>20210513-ITP-8cell-cross-50-C</th>\n",
       "      <td>37.662230</td>\n",
       "      <td>31.751715</td>\n",
       "      <td>30.586056</td>\n",
       "    </tr>\n",
       "    <tr>\n",
       "      <th>20210513-ITP-8cell-cross-50-D</th>\n",
       "      <td>37.095086</td>\n",
       "      <td>32.277852</td>\n",
       "      <td>30.627062</td>\n",
       "    </tr>\n",
       "    <tr>\n",
       "      <th>20210614-ITP-GV-50-A</th>\n",
       "      <td>37.794955</td>\n",
       "      <td>31.217792</td>\n",
       "      <td>30.987253</td>\n",
       "    </tr>\n",
       "    <tr>\n",
       "      <th>20210614-ITP-GV-50-B</th>\n",
       "      <td>37.740208</td>\n",
       "      <td>32.553766</td>\n",
       "      <td>29.706027</td>\n",
       "    </tr>\n",
       "    <tr>\n",
       "      <th>20210614-ITP-GV-50-C</th>\n",
       "      <td>38.227609</td>\n",
       "      <td>31.328468</td>\n",
       "      <td>30.443924</td>\n",
       "    </tr>\n",
       "    <tr>\n",
       "      <th>20210614-ITP-GV-50-E</th>\n",
       "      <td>38.583356</td>\n",
       "      <td>31.177499</td>\n",
       "      <td>30.239145</td>\n",
       "    </tr>\n",
       "    <tr>\n",
       "      <th>20210614-ITP-GV-50-F</th>\n",
       "      <td>38.533787</td>\n",
       "      <td>30.756745</td>\n",
       "      <td>30.709468</td>\n",
       "    </tr>\n",
       "    <tr>\n",
       "      <th>20210614-ITP-MII-50-D</th>\n",
       "      <td>36.694537</td>\n",
       "      <td>30.106066</td>\n",
       "      <td>33.199397</td>\n",
       "    </tr>\n",
       "  </tbody>\n",
       "</table>\n",
       "</div>"
      ],
      "text/plain": [
       "                                       0          1          2\n",
       "20210301-ITP-MII-25-B          37.489245  32.332288  30.178467\n",
       "20210301-ITP-MII-50-A          37.019068  32.112288  30.868644\n",
       "20210301-ITP-MII-50-B          36.911532  30.491706  32.596761\n",
       "20210318-ITP-MII-50-B          36.300136  31.971893  31.727971\n",
       "20210513-ITP-1cell-cross-50-A  37.168580  30.238705  32.592715\n",
       "20210513-ITP-1cell-cross-50-B  36.218600  31.001484  32.779916\n",
       "20210513-ITP-1cell-cross-50-C  37.133682  32.524691  30.341627\n",
       "20210513-ITP-1cell-cross-50-D  36.679381  32.248149  31.072470\n",
       "20210513-ITP-1cell-cross-50-E  36.819110  31.516946  31.663944\n",
       "20210513-ITP-2cell-cross-50-B  37.605734  30.435105  31.959161\n",
       "20210513-ITP-2cell-cross-50-C  36.921174  32.797219  30.281607\n",
       "20210513-ITP-2cell-cross-50-F  36.978760  30.359491  32.661749\n",
       "20210513-ITP-4cell-cross-50-B  37.133286  31.987393  30.879321\n",
       "20210513-ITP-4cell-cross-50-C  36.831841  32.288634  30.879525\n",
       "20210513-ITP-4cell-cross-50-D  36.681023  30.684706  32.634270\n",
       "20210513-ITP-8cell-cross-50-A  37.566199  29.639677  32.794124\n",
       "20210513-ITP-8cell-cross-50-B  36.980073  32.584216  30.435711\n",
       "20210513-ITP-8cell-cross-50-C  37.662230  31.751715  30.586056\n",
       "20210513-ITP-8cell-cross-50-D  37.095086  32.277852  30.627062\n",
       "20210614-ITP-GV-50-A           37.794955  31.217792  30.987253\n",
       "20210614-ITP-GV-50-B           37.740208  32.553766  29.706027\n",
       "20210614-ITP-GV-50-C           38.227609  31.328468  30.443924\n",
       "20210614-ITP-GV-50-E           38.583356  31.177499  30.239145\n",
       "20210614-ITP-GV-50-F           38.533787  30.756745  30.709468\n",
       "20210614-ITP-MII-50-D          36.694537  30.106066  33.199397"
      ]
     },
     "execution_count": 27,
     "metadata": {},
     "output_type": "execute_result"
    }
   ],
   "source": [
    "mouse_raw_frame_percentages_df"
   ]
  },
  {
   "cell_type": "code",
   "execution_count": 28,
   "id": "100dafde",
   "metadata": {},
   "outputs": [],
   "source": [
    "mouse_raw_frame_percentages_df.to_csv(\"mouse_raw_frame_percentages.csv\")"
   ]
  },
  {
   "cell_type": "code",
   "execution_count": null,
   "id": "9ce8818d",
   "metadata": {},
   "outputs": [],
   "source": []
  },
  {
   "cell_type": "code",
   "execution_count": 42,
   "id": "1e350074",
   "metadata": {},
   "outputs": [
    {
     "data": {
      "text/html": [
       "<div>\n",
       "<style scoped>\n",
       "    .dataframe tbody tr th:only-of-type {\n",
       "        vertical-align: middle;\n",
       "    }\n",
       "\n",
       "    .dataframe tbody tr th {\n",
       "        vertical-align: top;\n",
       "    }\n",
       "\n",
       "    .dataframe thead th {\n",
       "        text-align: right;\n",
       "    }\n",
       "</style>\n",
       "<table border=\"1\" class=\"dataframe\">\n",
       "  <thead>\n",
       "    <tr style=\"text-align: right;\">\n",
       "      <th></th>\n",
       "      <th>0</th>\n",
       "      <th>1</th>\n",
       "      <th>2</th>\n",
       "    </tr>\n",
       "  </thead>\n",
       "  <tbody>\n",
       "    <tr>\n",
       "      <th>20210301-ITP-MII-25-B</th>\n",
       "      <td>37.489245</td>\n",
       "      <td>32.332288</td>\n",
       "      <td>30.178467</td>\n",
       "    </tr>\n",
       "    <tr>\n",
       "      <th>20210301-ITP-MII-50-A</th>\n",
       "      <td>37.019068</td>\n",
       "      <td>32.112288</td>\n",
       "      <td>30.868644</td>\n",
       "    </tr>\n",
       "    <tr>\n",
       "      <th>20210301-ITP-MII-50-B</th>\n",
       "      <td>36.911532</td>\n",
       "      <td>30.491706</td>\n",
       "      <td>32.596761</td>\n",
       "    </tr>\n",
       "    <tr>\n",
       "      <th>20210318-ITP-MII-50-B</th>\n",
       "      <td>36.300136</td>\n",
       "      <td>31.971893</td>\n",
       "      <td>31.727971</td>\n",
       "    </tr>\n",
       "    <tr>\n",
       "      <th>20210513-ITP-1cell-cross-50-A</th>\n",
       "      <td>37.168580</td>\n",
       "      <td>30.238705</td>\n",
       "      <td>32.592715</td>\n",
       "    </tr>\n",
       "    <tr>\n",
       "      <th>20210513-ITP-1cell-cross-50-B</th>\n",
       "      <td>36.218600</td>\n",
       "      <td>31.001484</td>\n",
       "      <td>32.779916</td>\n",
       "    </tr>\n",
       "    <tr>\n",
       "      <th>20210513-ITP-1cell-cross-50-C</th>\n",
       "      <td>37.133682</td>\n",
       "      <td>32.524691</td>\n",
       "      <td>30.341627</td>\n",
       "    </tr>\n",
       "    <tr>\n",
       "      <th>20210513-ITP-1cell-cross-50-D</th>\n",
       "      <td>36.679381</td>\n",
       "      <td>32.248149</td>\n",
       "      <td>31.072470</td>\n",
       "    </tr>\n",
       "    <tr>\n",
       "      <th>20210513-ITP-1cell-cross-50-E</th>\n",
       "      <td>36.819110</td>\n",
       "      <td>31.516946</td>\n",
       "      <td>31.663944</td>\n",
       "    </tr>\n",
       "    <tr>\n",
       "      <th>20210513-ITP-2cell-cross-50-B</th>\n",
       "      <td>37.605734</td>\n",
       "      <td>30.435105</td>\n",
       "      <td>31.959161</td>\n",
       "    </tr>\n",
       "    <tr>\n",
       "      <th>20210513-ITP-2cell-cross-50-C</th>\n",
       "      <td>36.921174</td>\n",
       "      <td>32.797219</td>\n",
       "      <td>30.281607</td>\n",
       "    </tr>\n",
       "    <tr>\n",
       "      <th>20210513-ITP-2cell-cross-50-F</th>\n",
       "      <td>36.978760</td>\n",
       "      <td>30.359491</td>\n",
       "      <td>32.661749</td>\n",
       "    </tr>\n",
       "    <tr>\n",
       "      <th>20210513-ITP-4cell-cross-50-B</th>\n",
       "      <td>37.133286</td>\n",
       "      <td>31.987393</td>\n",
       "      <td>30.879321</td>\n",
       "    </tr>\n",
       "    <tr>\n",
       "      <th>20210513-ITP-4cell-cross-50-C</th>\n",
       "      <td>36.831841</td>\n",
       "      <td>32.288634</td>\n",
       "      <td>30.879525</td>\n",
       "    </tr>\n",
       "    <tr>\n",
       "      <th>20210513-ITP-4cell-cross-50-D</th>\n",
       "      <td>36.681023</td>\n",
       "      <td>30.684706</td>\n",
       "      <td>32.634270</td>\n",
       "    </tr>\n",
       "    <tr>\n",
       "      <th>20210513-ITP-8cell-cross-50-A</th>\n",
       "      <td>37.566199</td>\n",
       "      <td>29.639677</td>\n",
       "      <td>32.794124</td>\n",
       "    </tr>\n",
       "    <tr>\n",
       "      <th>20210513-ITP-8cell-cross-50-B</th>\n",
       "      <td>36.980073</td>\n",
       "      <td>32.584216</td>\n",
       "      <td>30.435711</td>\n",
       "    </tr>\n",
       "    <tr>\n",
       "      <th>20210513-ITP-8cell-cross-50-C</th>\n",
       "      <td>37.662230</td>\n",
       "      <td>31.751715</td>\n",
       "      <td>30.586056</td>\n",
       "    </tr>\n",
       "    <tr>\n",
       "      <th>20210513-ITP-8cell-cross-50-D</th>\n",
       "      <td>37.095086</td>\n",
       "      <td>32.277852</td>\n",
       "      <td>30.627062</td>\n",
       "    </tr>\n",
       "    <tr>\n",
       "      <th>20210614-ITP-GV-50-A</th>\n",
       "      <td>37.794955</td>\n",
       "      <td>31.217792</td>\n",
       "      <td>30.987253</td>\n",
       "    </tr>\n",
       "    <tr>\n",
       "      <th>20210614-ITP-GV-50-B</th>\n",
       "      <td>37.740208</td>\n",
       "      <td>32.553766</td>\n",
       "      <td>29.706027</td>\n",
       "    </tr>\n",
       "    <tr>\n",
       "      <th>20210614-ITP-GV-50-C</th>\n",
       "      <td>38.227609</td>\n",
       "      <td>31.328468</td>\n",
       "      <td>30.443924</td>\n",
       "    </tr>\n",
       "    <tr>\n",
       "      <th>20210614-ITP-GV-50-E</th>\n",
       "      <td>38.583356</td>\n",
       "      <td>31.177499</td>\n",
       "      <td>30.239145</td>\n",
       "    </tr>\n",
       "    <tr>\n",
       "      <th>20210614-ITP-GV-50-F</th>\n",
       "      <td>38.533787</td>\n",
       "      <td>30.756745</td>\n",
       "      <td>30.709468</td>\n",
       "    </tr>\n",
       "    <tr>\n",
       "      <th>20210614-ITP-MII-50-D</th>\n",
       "      <td>36.694537</td>\n",
       "      <td>30.106066</td>\n",
       "      <td>33.199397</td>\n",
       "    </tr>\n",
       "  </tbody>\n",
       "</table>\n",
       "</div>"
      ],
      "text/plain": [
       "                                       0          1          2\n",
       "20210301-ITP-MII-25-B          37.489245  32.332288  30.178467\n",
       "20210301-ITP-MII-50-A          37.019068  32.112288  30.868644\n",
       "20210301-ITP-MII-50-B          36.911532  30.491706  32.596761\n",
       "20210318-ITP-MII-50-B          36.300136  31.971893  31.727971\n",
       "20210513-ITP-1cell-cross-50-A  37.168580  30.238705  32.592715\n",
       "20210513-ITP-1cell-cross-50-B  36.218600  31.001484  32.779916\n",
       "20210513-ITP-1cell-cross-50-C  37.133682  32.524691  30.341627\n",
       "20210513-ITP-1cell-cross-50-D  36.679381  32.248149  31.072470\n",
       "20210513-ITP-1cell-cross-50-E  36.819110  31.516946  31.663944\n",
       "20210513-ITP-2cell-cross-50-B  37.605734  30.435105  31.959161\n",
       "20210513-ITP-2cell-cross-50-C  36.921174  32.797219  30.281607\n",
       "20210513-ITP-2cell-cross-50-F  36.978760  30.359491  32.661749\n",
       "20210513-ITP-4cell-cross-50-B  37.133286  31.987393  30.879321\n",
       "20210513-ITP-4cell-cross-50-C  36.831841  32.288634  30.879525\n",
       "20210513-ITP-4cell-cross-50-D  36.681023  30.684706  32.634270\n",
       "20210513-ITP-8cell-cross-50-A  37.566199  29.639677  32.794124\n",
       "20210513-ITP-8cell-cross-50-B  36.980073  32.584216  30.435711\n",
       "20210513-ITP-8cell-cross-50-C  37.662230  31.751715  30.586056\n",
       "20210513-ITP-8cell-cross-50-D  37.095086  32.277852  30.627062\n",
       "20210614-ITP-GV-50-A           37.794955  31.217792  30.987253\n",
       "20210614-ITP-GV-50-B           37.740208  32.553766  29.706027\n",
       "20210614-ITP-GV-50-C           38.227609  31.328468  30.443924\n",
       "20210614-ITP-GV-50-E           38.583356  31.177499  30.239145\n",
       "20210614-ITP-GV-50-F           38.533787  30.756745  30.709468\n",
       "20210614-ITP-MII-50-D          36.694537  30.106066  33.199397"
      ]
     },
     "execution_count": 42,
     "metadata": {},
     "output_type": "execute_result"
    }
   ],
   "source": [
    "mouse_raw_frame_percentages_df"
   ]
  },
  {
   "cell_type": "markdown",
   "id": "aa25ac1a",
   "metadata": {},
   "source": [
    "--------------------------------------------------------"
   ]
  },
  {
   "cell_type": "markdown",
   "id": "485e1496",
   "metadata": {},
   "source": [
    "## HUMAN DATA"
   ]
  },
  {
   "cell_type": "code",
   "execution_count": 38,
   "id": "c961cc4d",
   "metadata": {},
   "outputs": [
    {
     "data": {
      "text/plain": [
       "('20191203-Kit-10M-Monosome-1',\n",
       " '20191203-Kit-10M-Monosome-2',\n",
       " '20191203-Kit-10M-Monosome-3',\n",
       " '20201104-ITP-100-5mM-50-1',\n",
       " '20201209-ITP-100-5mM-6',\n",
       " '20210131-ITP-100-5mM-50_diluted-1')"
      ]
     },
     "execution_count": 38,
     "metadata": {},
     "output_type": "execute_result"
    }
   ],
   "source": [
    "human_ribo.experiments"
   ]
  },
  {
   "cell_type": "code",
   "execution_count": 40,
   "id": "f07333e7",
   "metadata": {},
   "outputs": [
    {
     "name": "stdout",
     "output_type": "stream",
     "text": [
      "20191203-Kit-10M-Monosome-1\n"
     ]
    },
    {
     "name": "stderr",
     "output_type": "stream",
     "text": [
      "Process ForkPoolWorker-313:\n",
      "Process ForkPoolWorker-312:\n",
      "Process ForkPoolWorker-311:\n",
      "Process ForkPoolWorker-314:\n",
      "Process ForkPoolWorker-315:\n",
      "Process ForkPoolWorker-316:\n",
      "Traceback (most recent call last):\n",
      "Traceback (most recent call last):\n",
      "Traceback (most recent call last):\n",
      "Traceback (most recent call last):\n",
      "  File \"/home/hakan/miniconda3/envs/ribo/lib/python3.6/multiprocessing/process.py\", line 258, in _bootstrap\n",
      "    self.run()\n",
      "  File \"/home/hakan/miniconda3/envs/ribo/lib/python3.6/multiprocessing/process.py\", line 258, in _bootstrap\n",
      "    self.run()\n",
      "Traceback (most recent call last):\n",
      "  File \"/home/hakan/miniconda3/envs/ribo/lib/python3.6/multiprocessing/process.py\", line 258, in _bootstrap\n",
      "    self.run()\n",
      "  File \"/home/hakan/miniconda3/envs/ribo/lib/python3.6/multiprocessing/process.py\", line 258, in _bootstrap\n",
      "    self.run()\n",
      "  File \"/home/hakan/miniconda3/envs/ribo/lib/python3.6/multiprocessing/process.py\", line 93, in run\n",
      "    self._target(*self._args, **self._kwargs)\n",
      "  File \"/home/hakan/miniconda3/envs/ribo/lib/python3.6/multiprocessing/process.py\", line 258, in _bootstrap\n",
      "    self.run()\n",
      "  File \"/home/hakan/miniconda3/envs/ribo/lib/python3.6/multiprocessing/process.py\", line 93, in run\n",
      "    self._target(*self._args, **self._kwargs)\n",
      "  File \"/home/hakan/miniconda3/envs/ribo/lib/python3.6/multiprocessing/process.py\", line 258, in _bootstrap\n",
      "    self.run()\n",
      "  File \"/home/hakan/miniconda3/envs/ribo/lib/python3.6/multiprocessing/process.py\", line 93, in run\n",
      "    self._target(*self._args, **self._kwargs)\n",
      "  File \"/home/hakan/miniconda3/envs/ribo/lib/python3.6/multiprocessing/pool.py\", line 119, in worker\n",
      "    result = (True, func(*args, **kwds))\n",
      "  File \"/home/hakan/miniconda3/envs/ribo/lib/python3.6/multiprocessing/pool.py\", line 119, in worker\n",
      "    result = (True, func(*args, **kwds))\n",
      "  File \"/home/hakan/miniconda3/envs/ribo/lib/python3.6/multiprocessing/process.py\", line 93, in run\n",
      "    self._target(*self._args, **self._kwargs)\n",
      "  File \"/home/hakan/miniconda3/envs/ribo/lib/python3.6/multiprocessing/process.py\", line 93, in run\n",
      "    self._target(*self._args, **self._kwargs)\n",
      "  File \"/home/hakan/miniconda3/envs/ribo/lib/python3.6/multiprocessing/pool.py\", line 119, in worker\n",
      "    result = (True, func(*args, **kwds))\n",
      "  File \"/home/hakan/miniconda3/envs/ribo/lib/python3.6/multiprocessing/pool.py\", line 44, in mapstar\n",
      "    return list(map(*args))\n",
      "  File \"/home/hakan/miniconda3/envs/ribo/lib/python3.6/multiprocessing/process.py\", line 93, in run\n",
      "    self._target(*self._args, **self._kwargs)\n",
      "  File \"/home/hakan/miniconda3/envs/ribo/lib/python3.6/multiprocessing/pool.py\", line 44, in mapstar\n",
      "    return list(map(*args))\n",
      "  File \"/home/hakan/miniconda3/envs/ribo/lib/python3.6/multiprocessing/pool.py\", line 119, in worker\n",
      "    result = (True, func(*args, **kwds))\n",
      "  File \"<ipython-input-14-b10ed8092f7d>\", line 25, in f\n",
      "    left_span = left_span, right_span = right_span )\n",
      "  File \"/home/hakan/miniconda3/envs/ribo/lib/python3.6/multiprocessing/pool.py\", line 119, in worker\n",
      "    result = (True, func(*args, **kwds))\n",
      "  File \"<ipython-input-14-b10ed8092f7d>\", line 25, in f\n",
      "    left_span = left_span, right_span = right_span )\n",
      "  File \"/home/hakan/miniconda3/envs/ribo/lib/python3.6/multiprocessing/pool.py\", line 119, in worker\n",
      "    result = (True, func(*args, **kwds))\n",
      "  File \"/home/hakan/miniconda3/envs/ribo/lib/python3.6/multiprocessing/pool.py\", line 44, in mapstar\n",
      "    return list(map(*args))\n",
      "  File \"/home/hakan/miniconda3/envs/ribo/lib/python3.6/multiprocessing/pool.py\", line 44, in mapstar\n",
      "    return list(map(*args))\n",
      "  File \"/home/hakan/miniconda3/envs/ribo/lib/python3.6/multiprocessing/pool.py\", line 44, in mapstar\n",
      "    return list(map(*args))\n",
      "  File \"<ipython-input-13-2e2c189dad18>\", line 37, in count_nucleotides\n",
      "    if coverage[position] == 0:\n",
      "  File \"/home/hakan/miniconda3/envs/ribo/lib/python3.6/multiprocessing/pool.py\", line 44, in mapstar\n",
      "    return list(map(*args))\n",
      "  File \"<ipython-input-14-b10ed8092f7d>\", line 25, in f\n",
      "    left_span = left_span, right_span = right_span )\n",
      "  File \"<ipython-input-13-2e2c189dad18>\", line 37, in count_nucleotides\n",
      "    if coverage[position] == 0:\n",
      "  File \"<ipython-input-14-b10ed8092f7d>\", line 25, in f\n",
      "    left_span = left_span, right_span = right_span )\n",
      "KeyboardInterrupt\n",
      "  File \"<ipython-input-14-b10ed8092f7d>\", line 25, in f\n",
      "    left_span = left_span, right_span = right_span )\n",
      "  File \"<ipython-input-13-2e2c189dad18>\", line 37, in count_nucleotides\n",
      "    if coverage[position] == 0:\n",
      "  File \"<ipython-input-14-b10ed8092f7d>\", line 25, in f\n",
      "    left_span = left_span, right_span = right_span )\n",
      "  File \"<ipython-input-13-2e2c189dad18>\", line 37, in count_nucleotides\n",
      "    if coverage[position] == 0:\n",
      "  File \"<ipython-input-13-2e2c189dad18>\", line 37, in count_nucleotides\n",
      "    if coverage[position] == 0:\n",
      "  File \"<ipython-input-13-2e2c189dad18>\", line 37, in count_nucleotides\n",
      "    if coverage[position] == 0:\n",
      "KeyboardInterrupt\n",
      "KeyboardInterrupt\n",
      "KeyboardInterrupt\n",
      "KeyboardInterrupt\n",
      "KeyboardInterrupt\n"
     ]
    },
    {
     "ename": "KeyboardInterrupt",
     "evalue": "",
     "output_type": "error",
     "traceback": [
      "\u001b[0;31m---------------------------------------------------------------------------\u001b[0m",
      "\u001b[0;31mKeyboardInterrupt\u001b[0m                         Traceback (most recent call last)",
      "\u001b[0;32m<ipython-input-40-4a50a35ae25b>\u001b[0m in \u001b[0;36m<module>\u001b[0;34m\u001b[0m\n\u001b[1;32m     20\u001b[0m                                     \u001b[0mrpf_min\u001b[0m \u001b[0;34m=\u001b[0m \u001b[0mLEN_MIN\u001b[0m\u001b[0;34m,\u001b[0m \u001b[0mrpf_max\u001b[0m \u001b[0;34m=\u001b[0m \u001b[0mLEN_MAX\u001b[0m\u001b[0;34m,\u001b[0m\u001b[0;34m\u001b[0m\u001b[0;34m\u001b[0m\u001b[0m\n\u001b[1;32m     21\u001b[0m                                     \u001b[0mleft_span\u001b[0m           \u001b[0;34m=\u001b[0m \u001b[0;36m2\u001b[0m\u001b[0;34m,\u001b[0m\u001b[0;34m\u001b[0m\u001b[0;34m\u001b[0m\u001b[0m\n\u001b[0;32m---> 22\u001b[0;31m                                     right_span          = 1 )   \n\u001b[0m\u001b[1;32m     23\u001b[0m \u001b[0;34m\u001b[0m\u001b[0m\n",
      "\u001b[0;32m<ipython-input-14-b10ed8092f7d>\u001b[0m in \u001b[0;36mcount_nucleotides_parallel\u001b[0;34m(coverage_dict, cds_annotation_dict, sequence_dict, rpf_min, rpf_max, processes, left_span, right_span)\u001b[0m\n\u001b[1;32m     26\u001b[0m \u001b[0;34m\u001b[0m\u001b[0m\n\u001b[1;32m     27\u001b[0m     \u001b[0;32mwith\u001b[0m \u001b[0mPool\u001b[0m\u001b[0;34m(\u001b[0m\u001b[0mprocesses\u001b[0m\u001b[0;34m)\u001b[0m \u001b[0;32mas\u001b[0m \u001b[0mp\u001b[0m\u001b[0;34m:\u001b[0m\u001b[0;34m\u001b[0m\u001b[0;34m\u001b[0m\u001b[0m\n\u001b[0;32m---> 28\u001b[0;31m         \u001b[0mmapped_list\u001b[0m \u001b[0;34m=\u001b[0m \u001b[0mp\u001b[0m\u001b[0;34m.\u001b[0m\u001b[0mmap\u001b[0m\u001b[0;34m(\u001b[0m\u001b[0mf\u001b[0m\u001b[0;34m,\u001b[0m \u001b[0mrpf_range\u001b[0m\u001b[0;34m)\u001b[0m\u001b[0;34m\u001b[0m\u001b[0;34m\u001b[0m\u001b[0m\n\u001b[0m\u001b[1;32m     29\u001b[0m \u001b[0;34m\u001b[0m\u001b[0m\n\u001b[1;32m     30\u001b[0m     \u001b[0;32mreturn\u001b[0m\u001b[0;34m(\u001b[0m\u001b[0mmapped_list\u001b[0m\u001b[0;34m)\u001b[0m\u001b[0;34m\u001b[0m\u001b[0;34m\u001b[0m\u001b[0m\n",
      "\u001b[0;32m~/miniconda3/envs/ribo/lib/python3.6/multiprocessing/pool.py\u001b[0m in \u001b[0;36mmap\u001b[0;34m(self, func, iterable, chunksize)\u001b[0m\n\u001b[1;32m    264\u001b[0m         \u001b[0;32min\u001b[0m \u001b[0ma\u001b[0m \u001b[0mlist\u001b[0m \u001b[0mthat\u001b[0m \u001b[0;32mis\u001b[0m \u001b[0mreturned\u001b[0m\u001b[0;34m.\u001b[0m\u001b[0;34m\u001b[0m\u001b[0;34m\u001b[0m\u001b[0m\n\u001b[1;32m    265\u001b[0m         '''\n\u001b[0;32m--> 266\u001b[0;31m         \u001b[0;32mreturn\u001b[0m \u001b[0mself\u001b[0m\u001b[0;34m.\u001b[0m\u001b[0m_map_async\u001b[0m\u001b[0;34m(\u001b[0m\u001b[0mfunc\u001b[0m\u001b[0;34m,\u001b[0m \u001b[0miterable\u001b[0m\u001b[0;34m,\u001b[0m \u001b[0mmapstar\u001b[0m\u001b[0;34m,\u001b[0m \u001b[0mchunksize\u001b[0m\u001b[0;34m)\u001b[0m\u001b[0;34m.\u001b[0m\u001b[0mget\u001b[0m\u001b[0;34m(\u001b[0m\u001b[0;34m)\u001b[0m\u001b[0;34m\u001b[0m\u001b[0;34m\u001b[0m\u001b[0m\n\u001b[0m\u001b[1;32m    267\u001b[0m \u001b[0;34m\u001b[0m\u001b[0m\n\u001b[1;32m    268\u001b[0m     \u001b[0;32mdef\u001b[0m \u001b[0mstarmap\u001b[0m\u001b[0;34m(\u001b[0m\u001b[0mself\u001b[0m\u001b[0;34m,\u001b[0m \u001b[0mfunc\u001b[0m\u001b[0;34m,\u001b[0m \u001b[0miterable\u001b[0m\u001b[0;34m,\u001b[0m \u001b[0mchunksize\u001b[0m\u001b[0;34m=\u001b[0m\u001b[0;32mNone\u001b[0m\u001b[0;34m)\u001b[0m\u001b[0;34m:\u001b[0m\u001b[0;34m\u001b[0m\u001b[0;34m\u001b[0m\u001b[0m\n",
      "\u001b[0;32m~/miniconda3/envs/ribo/lib/python3.6/multiprocessing/pool.py\u001b[0m in \u001b[0;36mget\u001b[0;34m(self, timeout)\u001b[0m\n\u001b[1;32m    636\u001b[0m \u001b[0;34m\u001b[0m\u001b[0m\n\u001b[1;32m    637\u001b[0m     \u001b[0;32mdef\u001b[0m \u001b[0mget\u001b[0m\u001b[0;34m(\u001b[0m\u001b[0mself\u001b[0m\u001b[0;34m,\u001b[0m \u001b[0mtimeout\u001b[0m\u001b[0;34m=\u001b[0m\u001b[0;32mNone\u001b[0m\u001b[0;34m)\u001b[0m\u001b[0;34m:\u001b[0m\u001b[0;34m\u001b[0m\u001b[0;34m\u001b[0m\u001b[0m\n\u001b[0;32m--> 638\u001b[0;31m         \u001b[0mself\u001b[0m\u001b[0;34m.\u001b[0m\u001b[0mwait\u001b[0m\u001b[0;34m(\u001b[0m\u001b[0mtimeout\u001b[0m\u001b[0;34m)\u001b[0m\u001b[0;34m\u001b[0m\u001b[0;34m\u001b[0m\u001b[0m\n\u001b[0m\u001b[1;32m    639\u001b[0m         \u001b[0;32mif\u001b[0m \u001b[0;32mnot\u001b[0m \u001b[0mself\u001b[0m\u001b[0;34m.\u001b[0m\u001b[0mready\u001b[0m\u001b[0;34m(\u001b[0m\u001b[0;34m)\u001b[0m\u001b[0;34m:\u001b[0m\u001b[0;34m\u001b[0m\u001b[0;34m\u001b[0m\u001b[0m\n\u001b[1;32m    640\u001b[0m             \u001b[0;32mraise\u001b[0m \u001b[0mTimeoutError\u001b[0m\u001b[0;34m\u001b[0m\u001b[0;34m\u001b[0m\u001b[0m\n",
      "\u001b[0;32m~/miniconda3/envs/ribo/lib/python3.6/multiprocessing/pool.py\u001b[0m in \u001b[0;36mwait\u001b[0;34m(self, timeout)\u001b[0m\n\u001b[1;32m    633\u001b[0m \u001b[0;34m\u001b[0m\u001b[0m\n\u001b[1;32m    634\u001b[0m     \u001b[0;32mdef\u001b[0m \u001b[0mwait\u001b[0m\u001b[0;34m(\u001b[0m\u001b[0mself\u001b[0m\u001b[0;34m,\u001b[0m \u001b[0mtimeout\u001b[0m\u001b[0;34m=\u001b[0m\u001b[0;32mNone\u001b[0m\u001b[0;34m)\u001b[0m\u001b[0;34m:\u001b[0m\u001b[0;34m\u001b[0m\u001b[0;34m\u001b[0m\u001b[0m\n\u001b[0;32m--> 635\u001b[0;31m         \u001b[0mself\u001b[0m\u001b[0;34m.\u001b[0m\u001b[0m_event\u001b[0m\u001b[0;34m.\u001b[0m\u001b[0mwait\u001b[0m\u001b[0;34m(\u001b[0m\u001b[0mtimeout\u001b[0m\u001b[0;34m)\u001b[0m\u001b[0;34m\u001b[0m\u001b[0;34m\u001b[0m\u001b[0m\n\u001b[0m\u001b[1;32m    636\u001b[0m \u001b[0;34m\u001b[0m\u001b[0m\n\u001b[1;32m    637\u001b[0m     \u001b[0;32mdef\u001b[0m \u001b[0mget\u001b[0m\u001b[0;34m(\u001b[0m\u001b[0mself\u001b[0m\u001b[0;34m,\u001b[0m \u001b[0mtimeout\u001b[0m\u001b[0;34m=\u001b[0m\u001b[0;32mNone\u001b[0m\u001b[0;34m)\u001b[0m\u001b[0;34m:\u001b[0m\u001b[0;34m\u001b[0m\u001b[0;34m\u001b[0m\u001b[0m\n",
      "\u001b[0;32m~/miniconda3/envs/ribo/lib/python3.6/threading.py\u001b[0m in \u001b[0;36mwait\u001b[0;34m(self, timeout)\u001b[0m\n\u001b[1;32m    549\u001b[0m             \u001b[0msignaled\u001b[0m \u001b[0;34m=\u001b[0m \u001b[0mself\u001b[0m\u001b[0;34m.\u001b[0m\u001b[0m_flag\u001b[0m\u001b[0;34m\u001b[0m\u001b[0;34m\u001b[0m\u001b[0m\n\u001b[1;32m    550\u001b[0m             \u001b[0;32mif\u001b[0m \u001b[0;32mnot\u001b[0m \u001b[0msignaled\u001b[0m\u001b[0;34m:\u001b[0m\u001b[0;34m\u001b[0m\u001b[0;34m\u001b[0m\u001b[0m\n\u001b[0;32m--> 551\u001b[0;31m                 \u001b[0msignaled\u001b[0m \u001b[0;34m=\u001b[0m \u001b[0mself\u001b[0m\u001b[0;34m.\u001b[0m\u001b[0m_cond\u001b[0m\u001b[0;34m.\u001b[0m\u001b[0mwait\u001b[0m\u001b[0;34m(\u001b[0m\u001b[0mtimeout\u001b[0m\u001b[0;34m)\u001b[0m\u001b[0;34m\u001b[0m\u001b[0;34m\u001b[0m\u001b[0m\n\u001b[0m\u001b[1;32m    552\u001b[0m             \u001b[0;32mreturn\u001b[0m \u001b[0msignaled\u001b[0m\u001b[0;34m\u001b[0m\u001b[0;34m\u001b[0m\u001b[0m\n\u001b[1;32m    553\u001b[0m \u001b[0;34m\u001b[0m\u001b[0m\n",
      "\u001b[0;32m~/miniconda3/envs/ribo/lib/python3.6/threading.py\u001b[0m in \u001b[0;36mwait\u001b[0;34m(self, timeout)\u001b[0m\n\u001b[1;32m    293\u001b[0m         \u001b[0;32mtry\u001b[0m\u001b[0;34m:\u001b[0m    \u001b[0;31m# restore state no matter what (e.g., KeyboardInterrupt)\u001b[0m\u001b[0;34m\u001b[0m\u001b[0;34m\u001b[0m\u001b[0m\n\u001b[1;32m    294\u001b[0m             \u001b[0;32mif\u001b[0m \u001b[0mtimeout\u001b[0m \u001b[0;32mis\u001b[0m \u001b[0;32mNone\u001b[0m\u001b[0;34m:\u001b[0m\u001b[0;34m\u001b[0m\u001b[0;34m\u001b[0m\u001b[0m\n\u001b[0;32m--> 295\u001b[0;31m                 \u001b[0mwaiter\u001b[0m\u001b[0;34m.\u001b[0m\u001b[0macquire\u001b[0m\u001b[0;34m(\u001b[0m\u001b[0;34m)\u001b[0m\u001b[0;34m\u001b[0m\u001b[0;34m\u001b[0m\u001b[0m\n\u001b[0m\u001b[1;32m    296\u001b[0m                 \u001b[0mgotit\u001b[0m \u001b[0;34m=\u001b[0m \u001b[0;32mTrue\u001b[0m\u001b[0;34m\u001b[0m\u001b[0;34m\u001b[0m\u001b[0m\n\u001b[1;32m    297\u001b[0m             \u001b[0;32melse\u001b[0m\u001b[0;34m:\u001b[0m\u001b[0;34m\u001b[0m\u001b[0;34m\u001b[0m\u001b[0m\n",
      "\u001b[0;31mKeyboardInterrupt\u001b[0m: "
     ]
    }
   ],
   "source": [
    "human_experiments = human_ribo.experiments\n",
    "\n",
    "\n",
    "human_nucleotide_counts_2_1 = dict()\n",
    "\n",
    "\n",
    "for e in human_experiments:\n",
    "    print(e)\n",
    "    this_coverage = make_coverage_dict_of_experiment(\n",
    "                            human_ribo, \n",
    "                            experiment = e, \n",
    "                            len_min    = LEN_MIN, \n",
    "                            len_max    = LEN_MAX )\n",
    "    \n",
    "    \n",
    "    human_nucleotide_counts_2_1[e] = count_nucleotides_parallel( \n",
    "                                    coverage_dict       = this_coverage, \n",
    "                                    cds_annotation_dict = human_cds_boundaries ,\n",
    "                                    sequence_dict       = human_sequences, \n",
    "                                    rpf_min = LEN_MIN, rpf_max = LEN_MAX,\n",
    "                                    left_span           = 2, \n",
    "                                    right_span          = 1 )   \n",
    "\n"
   ]
  },
  {
   "cell_type": "code",
   "execution_count": null,
   "id": "8db2b8a3",
   "metadata": {},
   "outputs": [],
   "source": [
    "human_adjusted_frame_percentages = dict()\n",
    "human_raw_frame_percentages      = dict()\n",
    "\n",
    "for e in human_ribo.experiments:\n",
    "    adjusted_frames            = adjust_frames_by_sequence(human_nucleotide_counts_2_1[e]  )\n",
    "    p_raw_frames               = adjust_p_sites(human_nucleotide_counts_2_1[e])\n",
    "    \n",
    "    human_raw_frame_percentages[e]      = calculate_periodicity_percentage(p_raw_frames)\n",
    "    human_adjusted_frame_percentages[e] = calculate_periodicity_percentage(adjusted_frames) "
   ]
  },
  {
   "cell_type": "code",
   "execution_count": null,
   "id": "ad96f5d1",
   "metadata": {},
   "outputs": [],
   "source": [
    "human_raw_frame_percentages_df = pd.DataFrame(human_raw_frame_percentages).transpose()\n",
    "human_raw_frame_percentages_df.to_csv(\"human_raw_frame_percentages.csv\")\n",
    "human_raw_frame_percentages_df"
   ]
  },
  {
   "cell_type": "code",
   "execution_count": null,
   "id": "da1ec131",
   "metadata": {},
   "outputs": [],
   "source": [
    "human_adjusted_frame_percentages_df = pd.DataFrame(human_adjusted_frame_percentages).transpose()\n",
    "human_adjusted_frame_percentages_df.to_csv(\"human_adjusted_frame_percentages.csv\")\n",
    "human_adjusted_frame_percentages_df"
   ]
  },
  {
   "cell_type": "code",
   "execution_count": null,
   "id": "1f67217c",
   "metadata": {},
   "outputs": [],
   "source": []
  },
  {
   "cell_type": "markdown",
   "id": "6a1756db",
   "metadata": {},
   "source": [
    "## Frame Adjustment:\n",
    "### Notes:\n",
    "   Mouse: Adjusted mean percentage, for frame 0 is 46.99% with standard error 0.18\n",
    "   For the mouse data, we used all single cell experiments from GV, MII and 1-cell embryo stages.\n",
    "   \n",
    "   Human 100-cell:  Adjusted mean percentage, for frame 0 is 48.34% with standard error 0.09\n",
    "   Human Monosome: Adjusted percentage, for frame 0 is 47.58% with standard error 0.13\n",
    "   \n",
    "### Frame Adjustment:\n",
    "   For a read, we define its frame to be the difference between module 3 of the \n",
    "   difference between the 5' end of the read and the translation start site.\n",
    "   \n",
    "   For each RPF length, we considered the last two nucleotides at the 3' end of the read\n",
    "   and one nucleotide downstream of the 3' end.\n",
    "   For each of these triplets of these nucleotides, we counted the number of reads\n",
    "   mapping to the frames 0,1,2.\n",
    "   \n",
    "   Then we applied cyclic shifts to each triplet so that the maximum value is at frame 0.\n",
    "   After aggregating all triplets for all RPF lengths,\n",
    "   we obtain the total adjusted counts of the frames 0, 1, 2.\n",
    "   \n",
    "  "
   ]
  },
  {
   "cell_type": "markdown",
   "id": "4a0649f1",
   "metadata": {},
   "source": [
    "## P-Value Calculation\n",
    "\n",
    "We compare the distribution of the frames to the uniform distribution.\n",
    "\n",
    "Because p-values are so small, we see 0's here only. When we repeat the chi-squared tests in R, we get p < 2.2e-16 for all cases. So we report it in the text. "
   ]
  },
  {
   "cell_type": "code",
   "execution_count": 47,
   "id": "af415c24",
   "metadata": {},
   "outputs": [],
   "source": [
    "mouse_single_sell_experiments = ['20210301-ITP-MII-25-B',\n",
    " '20210301-ITP-MII-50-A',\n",
    " '20210301-ITP-MII-50-B',\n",
    " '20210318-ITP-MII-50-B',\n",
    " '20210614-ITP-MII-50-D',\n",
    "  '20210614-ITP-GV-50-A',\n",
    " '20210614-ITP-GV-50-B',\n",
    " '20210614-ITP-GV-50-C',\n",
    " '20210614-ITP-GV-50-E',\n",
    " '20210614-ITP-GV-50-F',\n",
    " '20210513-ITP-1cell-cross-50-A',\n",
    " '20210513-ITP-1cell-cross-50-B',\n",
    " '20210513-ITP-1cell-cross-50-C',\n",
    " '20210513-ITP-1cell-cross-50-D',\n",
    " '20210513-ITP-1cell-cross-50-E' ]\n"
   ]
  },
  {
   "cell_type": "code",
   "execution_count": 58,
   "id": "a82c0c4e",
   "metadata": {},
   "outputs": [
    {
     "data": {
      "text/plain": [
       "Power_divergenceResult(statistic=3488.974237288135, pvalue=0.0)"
      ]
     },
     "execution_count": 58,
     "metadata": {},
     "output_type": "execute_result"
    }
   ],
   "source": [
    "e = '20210301-ITP-MII-50-A'\n",
    "adjusted_frames            = adjust_frames_by_sequence(nucleotide_counts_2_1[e]  )\n",
    "this_expected = np.mean(adjusted_frames)\n",
    "scipy.stats.chisquare( list(adjusted_frames ), [this_expected, this_expected, this_expected])"
   ]
  },
  {
   "cell_type": "code",
   "execution_count": 64,
   "id": "f6e7772e",
   "metadata": {},
   "outputs": [
    {
     "name": "stdout",
     "output_type": "stream",
     "text": [
      "20210301-ITP-MII-25-B\n",
      "Power_divergenceResult(statistic=2885.067639956702, pvalue=0.0)\n",
      "20210301-ITP-MII-50-A\n",
      "Power_divergenceResult(statistic=3488.974237288135, pvalue=0.0)\n",
      "20210301-ITP-MII-50-B\n",
      "Power_divergenceResult(statistic=3614.897985781991, pvalue=0.0)\n",
      "20210318-ITP-MII-50-B\n",
      "Power_divergenceResult(statistic=5338.399617484824, pvalue=0.0)\n",
      "20210614-ITP-MII-50-D\n",
      "Power_divergenceResult(statistic=2802.958548763553, pvalue=0.0)\n",
      "20210614-ITP-GV-50-A\n",
      "Power_divergenceResult(statistic=5685.091639544345, pvalue=0.0)\n",
      "20210614-ITP-GV-50-B\n",
      "Power_divergenceResult(statistic=4904.572450731867, pvalue=0.0)\n",
      "20210614-ITP-GV-50-C\n",
      "Power_divergenceResult(statistic=6042.403045593801, pvalue=0.0)\n",
      "20210614-ITP-GV-50-E\n",
      "Power_divergenceResult(statistic=7417.210649459399, pvalue=0.0)\n",
      "20210614-ITP-GV-50-F\n",
      "Power_divergenceResult(statistic=6187.694118759455, pvalue=0.0)\n",
      "20210513-ITP-1cell-cross-50-A\n",
      "Power_divergenceResult(statistic=3920.5698769307014, pvalue=0.0)\n",
      "20210513-ITP-1cell-cross-50-B\n",
      "Power_divergenceResult(statistic=5306.508106705867, pvalue=0.0)\n",
      "20210513-ITP-1cell-cross-50-C\n",
      "Power_divergenceResult(statistic=3039.7446705164875, pvalue=0.0)\n",
      "20210513-ITP-1cell-cross-50-D\n",
      "Power_divergenceResult(statistic=3778.6245007852817, pvalue=0.0)\n",
      "20210513-ITP-1cell-cross-50-E\n",
      "Power_divergenceResult(statistic=4161.213924050633, pvalue=0.0)\n"
     ]
    }
   ],
   "source": [
    "for e in mouse_single_sell_experiments:\n",
    "    print(e)\n",
    "    adjusted_frames            = adjust_frames_by_sequence(nucleotide_counts_2_1[e]  )\n",
    "    this_expected = np.mean(adjusted_frames)\n",
    "    result = scipy.stats.chisquare( list(adjusted_frames ), [this_expected, this_expected, this_expected])\n",
    "    print(result)"
   ]
  },
  {
   "cell_type": "code",
   "execution_count": 66,
   "id": "83679daa",
   "metadata": {},
   "outputs": [
    {
     "name": "stdout",
     "output_type": "stream",
     "text": [
      "Power_divergenceResult(statistic=2802.958548763553, pvalue=0.0)\n"
     ]
    }
   ],
   "source": [
    "e = \"20210614-ITP-MII-50-D\"\n",
    "adjusted_frames            = adjust_frames_by_sequence(nucleotide_counts_2_1[e]  )\n",
    "this_expected = np.mean(adjusted_frames)\n",
    "result = scipy.stats.chisquare( list(adjusted_frames ), [this_expected, this_expected, this_expected])\n",
    "print(result)"
   ]
  },
  {
   "cell_type": "code",
   "execution_count": 67,
   "id": "6be7f44c",
   "metadata": {},
   "outputs": [
    {
     "data": {
      "text/plain": [
       "[15863, 8718, 9266]"
      ]
     },
     "execution_count": 67,
     "metadata": {},
     "output_type": "execute_result"
    }
   ],
   "source": [
    "list(adjusted_frames )"
   ]
  }
 ],
 "metadata": {
  "kernelspec": {
   "display_name": "Python 3",
   "language": "python",
   "name": "python3"
  },
  "language_info": {
   "codemirror_mode": {
    "name": "ipython",
    "version": 3
   },
   "file_extension": ".py",
   "mimetype": "text/x-python",
   "name": "python",
   "nbconvert_exporter": "python",
   "pygments_lexer": "ipython3",
   "version": "3.6.13"
  }
 },
 "nbformat": 4,
 "nbformat_minor": 5
}
