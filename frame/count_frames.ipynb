{
 "cells": [
  {
   "cell_type": "code",
   "execution_count": null,
   "id": "a0f5078b",
   "metadata": {},
   "outputs": [],
   "source": []
  },
  {
   "cell_type": "code",
   "execution_count": 1,
   "id": "305f92f4",
   "metadata": {},
   "outputs": [],
   "source": [
    "import sys\n",
    "from collections import defaultdict\n",
    "import multiprocessing\n",
    "from multiprocessing import Pool\n",
    "from functools import partial\n",
    "import timeit\n",
    "\n",
    "import ribopy\n",
    "from ribopy import Ribo\n",
    "from ribopy.core.get_gadgets import get_region_boundaries, get_reference_names\n",
    "\n",
    "import numpy as np\n",
    "import pandas as pd\n",
    "\n",
    "sys.path.insert(0, '../snp')\n",
    "from ref_lib.Fasta import FastaEntry, FastaFile"
   ]
  },
  {
   "cell_type": "code",
   "execution_count": 2,
   "id": "102e1868",
   "metadata": {},
   "outputs": [],
   "source": [
    "mouse_transcriptome_file = \"../../mouse_itp_reference/transcriptome/varnt_masked_and_filtered_mouse_transcriptome.fa.gz\"\n",
    "human_transcriptome_file = \"../../../itp/human_itp_reference/transcriptome/appris_human_v2_after_filtering.fa.gz\"\n",
    "\n",
    "mouse_ribo_file = \"../../mouse-itp_v5.ribo\"\n",
    "human_ribo_file = \"../../../itp/human-itp_v4.ribo\"\n",
    "\n",
    "LEN_MIN = 29\n",
    "LEN_MAX = 35"
   ]
  },
  {
   "cell_type": "code",
   "execution_count": 3,
   "id": "e59d2af4",
   "metadata": {},
   "outputs": [],
   "source": [
    "mouse_sequences = dict()\n",
    "\n",
    "with FastaFile(mouse_transcriptome_file) as mouse_transcriptome:\n",
    "    for entry in mouse_transcriptome:\n",
    "        mouse_sequences[ entry.header ] = entry.sequence\n",
    "\n"
   ]
  },
  {
   "cell_type": "code",
   "execution_count": 4,
   "id": "ebab5939",
   "metadata": {},
   "outputs": [],
   "source": [
    "human_sequences = dict()\n",
    "\n",
    "with FastaFile(human_transcriptome_file) as human_transcriptome:\n",
    "    for entry in human_transcriptome:\n",
    "        human_sequences[ entry.header ] = entry.sequence\n"
   ]
  },
  {
   "cell_type": "code",
   "execution_count": 5,
   "id": "348e098c",
   "metadata": {},
   "outputs": [],
   "source": [
    "mouse_ribo = Ribo(mouse_ribo_file)"
   ]
  },
  {
   "cell_type": "code",
   "execution_count": 6,
   "id": "0f5deafd",
   "metadata": {},
   "outputs": [],
   "source": [
    "human_ribo = Ribo(human_ribo_file)"
   ]
  },
  {
   "cell_type": "code",
   "execution_count": 7,
   "id": "3a903982",
   "metadata": {},
   "outputs": [],
   "source": [
    "mouse_region_boundaries = get_region_boundaries(mouse_ribo._handle)\n",
    "mouse_gene_names        = get_reference_names(mouse_ribo._handle)\n",
    "\n",
    "mouse_ref_name_and_boundaries = zip(mouse_gene_names, mouse_region_boundaries)\n",
    "\n",
    "mouse_cds_boundaries = dict()\n",
    "\n",
    "for e in list(mouse_ref_name_and_boundaries):\n",
    "    mouse_cds_boundaries[e[0]] = e[1][1]"
   ]
  },
  {
   "cell_type": "code",
   "execution_count": 8,
   "id": "cdfec5e3",
   "metadata": {},
   "outputs": [],
   "source": [
    "human_region_boundaries = get_region_boundaries(human_ribo._handle)\n",
    "human_gene_names        = get_reference_names(human_ribo._handle)\n",
    "\n",
    "human_ref_name_and_boundaries = zip(human_gene_names, human_region_boundaries)\n",
    "\n",
    "human_cds_boundaries = dict()\n",
    "\n",
    "for e in list(human_ref_name_and_boundaries):\n",
    "    human_cds_boundaries[e[0]] = e[1][1]"
   ]
  },
  {
   "cell_type": "code",
   "execution_count": 9,
   "id": "c2b65775",
   "metadata": {},
   "outputs": [],
   "source": [
    "mouse_ribo = Ribo(mouse_ribo_file)"
   ]
  },
  {
   "cell_type": "code",
   "execution_count": 10,
   "id": "d9ca32bd",
   "metadata": {},
   "outputs": [],
   "source": [
    "def get_coverage_at_length(this_ribo, experiment, rpf_length):\n",
    "    return this_ribo.get_coverage(experiment  = experiment,\n",
    "                                  range_lower = rpf_length, \n",
    "                                  range_upper = rpf_length)\n",
    "\n",
    "def make_coverage_dict_of_experiment(this_ribo, experiment, len_min, len_max):\n",
    "    result_dict = defaultdict(dict)\n",
    "    \n",
    "    for i in range(len_min, len_max + 1):\n",
    "        result_dict[i] = get_coverage_at_length(this_ribo, experiment, i)\n",
    "        \n",
    "    return result_dict"
   ]
  },
  {
   "cell_type": "code",
   "execution_count": 11,
   "id": "e540dda1",
   "metadata": {},
   "outputs": [],
   "source": [
    "MII_1_coverages = make_coverage_dict_of_experiment(mouse_ribo, \n",
    "                                                   experiment = \"20210301-ITP-MII-25-B\", \n",
    "                                                   len_min    = LEN_MIN, \n",
    "                                                   len_max    = LEN_MAX )"
   ]
  },
  {
   "cell_type": "code",
   "execution_count": 12,
   "id": "5bf4366d",
   "metadata": {},
   "outputs": [
    {
     "data": {
      "text/plain": [
       "[29, 30, 31, 32, 33, 34, 35]"
      ]
     },
     "execution_count": 12,
     "metadata": {},
     "output_type": "execute_result"
    }
   ],
   "source": [
    "list(MII_1_coverages.keys())"
   ]
  },
  {
   "cell_type": "code",
   "execution_count": 13,
   "id": "d8194c8c",
   "metadata": {},
   "outputs": [],
   "source": [
    "def init_frame_triplet():\n",
    "    return [0, 0, 0]\n",
    "\n",
    "def count_nucleotides(coverage_dict, \n",
    "                      cds_annotation_dict, \n",
    "                      sequence_dict, \n",
    "                      rpf_len,\n",
    "                      left_span = 2, right_span = 1 ):\n",
    "    \"\"\"\n",
    "    Given a footprint length, this functio creates a table where each row\n",
    "    comes from nucleotide sequences\n",
    "    and the three columns correspond to the frames 0,1,2\n",
    "    \n",
    "    coverage_dict:\n",
    "       gene_identifier -> coverage vector\n",
    "       \n",
    "    cds_annotation_dict:\n",
    "       gene_identifier -> [cds_start, cds_end]\n",
    "       \n",
    "    sequence_dict:\n",
    "       gene_identifier -> gene_sequence\n",
    "       \n",
    "    rpf_len:\n",
    "       read length, ribosome protected footpront length\n",
    "       \n",
    "    left_span:  the last nucleotides before the 3' end of the read \n",
    "    \n",
    "    right_span: the first nucleotides  the 3' end of the read\n",
    "    \n",
    "    \"\"\"\n",
    "    \n",
    "    nuc_counts = defaultdict(init_frame_triplet)\n",
    "    \n",
    "    \n",
    "    for gene, coverage in coverage_dict.items():\n",
    "        for position in range( cds_annotation_dict[gene][0], cds_annotation_dict[gene][1] ):\n",
    "            if coverage[position] == 0:\n",
    "                continue\n",
    "                \n",
    "            this_sequence     = sequence_dict[gene][position + rpf_len - left_span: \\\n",
    "                                                    position + rpf_len + right_span]\n",
    "            \n",
    "            if \"N\" in this_sequence:\n",
    "                continue\n",
    "            \n",
    "            relative_position = position - cds_annotation_dict[gene][0]\n",
    "            \n",
    "            this_frame = relative_position % 3\n",
    "            \n",
    "            nuc_counts[this_sequence][this_frame] += coverage[position]\n",
    "        \n",
    "    return nuc_counts"
   ]
  },
  {
   "cell_type": "code",
   "execution_count": 52,
   "id": "0b246bf0",
   "metadata": {},
   "outputs": [],
   "source": [
    "def count_nucleotides_parallel( coverage_dict, \n",
    "                                cds_annotation_dict, \n",
    "                                sequence_dict, \n",
    "                                rpf_min, \n",
    "                                rpf_max,\n",
    "                                processes = 6,\n",
    "                                left_span = 2, right_span = 1 ):\n",
    "    \n",
    "    \"\"\"\n",
    "    Wrapper for the function `count_nucleotides`.\n",
    "    \n",
    "    \n",
    "    It takes a range of ribosome protected footprint lengths and runs count_nucletides\n",
    "    function on these individual lengths.\n",
    "    \n",
    "    \"\"\"\n",
    "    \n",
    "    rpf_range = list(range(rpf_min, rpf_max + 1))\n",
    "    \n",
    "    # Without this global, we have an error at the Pool.map step.\n",
    "    global f\n",
    "    \n",
    "    def f(x):\n",
    "       return count_nucleotides( coverage_dict[x], cds_annotation_dict, sequence_dict, rpf_len = x,\n",
    "                      left_span = left_span, right_span = right_span ) \n",
    "    \n",
    "    with Pool(processes) as p:\n",
    "        mapped_list = p.map(f, rpf_range)\n",
    "        \n",
    "    return(mapped_list)\n",
    "        \n"
   ]
  },
  {
   "cell_type": "code",
   "execution_count": null,
   "id": "1b6cd520",
   "metadata": {},
   "outputs": [],
   "source": []
  },
  {
   "cell_type": "code",
   "execution_count": 56,
   "id": "80584e7d",
   "metadata": {},
   "outputs": [],
   "source": [
    "MII_1_counts = count_nucleotides_parallel( \n",
    "                                coverage_dict = MII_1_coverages, \n",
    "                                cds_annotation_dict = mouse_cds_boundaries, \n",
    "                                sequence_dict = mouse_sequences, \n",
    "                                rpf_min = LEN_MIN, \n",
    "                                rpf_max = LEN_MAX,\n",
    "                                processes = 4,\n",
    "                                left_span = 2, right_span = 1 )"
   ]
  },
  {
   "cell_type": "code",
   "execution_count": 51,
   "id": "27e542d8",
   "metadata": {},
   "outputs": [
    {
     "data": {
      "text/plain": [
       "[176, 131, 60]"
      ]
     },
     "execution_count": 51,
     "metadata": {},
     "output_type": "execute_result"
    }
   ],
   "source": [
    "MII_1_counts[1]['AGA']"
   ]
  },
  {
   "cell_type": "code",
   "execution_count": null,
   "id": "e4ad9c52",
   "metadata": {},
   "outputs": [],
   "source": []
  },
  {
   "cell_type": "code",
   "execution_count": 48,
   "id": "f0ecaa49",
   "metadata": {},
   "outputs": [],
   "source": [
    "def max_by_cyclic_shift(df):\n",
    "    \"\"\"\n",
    "    Bring maximal counts in the frames to the frame 0 for each length.\n",
    "    This is done via a cyclic shift so that the maximal is at frame 0.\n",
    "    \"\"\"\n",
    "    adjusted_tuples = []\n",
    "\n",
    "    for r,v in df.iterrows():\n",
    "        max_index      = np.argmax(v)\n",
    "        adjusted_tuple = [v[ (i + max_index) % 3] for i in range(3)  ]\n",
    "        adjusted_tuples.append(adjusted_tuple)\n",
    "\n",
    "    mydf = pd.DataFrame(adjusted_tuples)\n",
    "    \n",
    "    return mydf\n",
    "    \n",
    "    \n",
    "def _adjust_p_sites(nucleotide_counts_list):\n",
    "    \"\"\"\n",
    "    Reports a dataframe where frames are reported per length\n",
    "    \"\"\"\n",
    "    summed_frames_per_length = []\n",
    "    \n",
    "    \n",
    "    # Sum the values for the frames 0,1,2\n",
    "    # collect them in a dataframe df_s\n",
    "    for nuc_counts in nucleotide_counts_list:\n",
    "        df = pd.DataFrame(nuc_counts)\n",
    "        summed_frames_per_length.append( df.sum(axis=1) )\n",
    "        \n",
    "    summed_frames_df       = pd.DataFrame(summed_frames_per_length)\n",
    "    p_site_adjusted_frames = max_by_cyclic_shift(summed_frames_df)\n",
    "    \n",
    "    return p_site_adjusted_frames\n",
    "\n",
    "def adjust_p_sites(nucleotide_counts_list):\n",
    "    adjusted_df = _adjust_p_sites(nucleotide_counts_list)\n",
    "    \n",
    "    return adjusted_df.sum(axis=0)\n",
    "\n",
    "def calculate_periodicity_percentage(npseries):\n",
    "    \n",
    "    return 100 * ( npseries / np.sum(npseries) )\n",
    "\n",
    "\n",
    "def _adjust_frames_by_sequence_indiv_length(nucleotide_counts_df):\n",
    "    adjusted_frames = max_by_cyclic_shift(nucleotide_counts_df)\n",
    "    \n",
    "    return adjusted_frames.sum(axis = 0)\n",
    "\n",
    "def adjust_frames_by_sequence(nucleotide_counts_list):\n",
    "    result = [0, 0, 0]\n",
    "    \n",
    "    for current_len_data in nucleotide_counts_list:\n",
    "        this_df            = pd.DataFrame(current_len_data).transpose()\n",
    "        this_adjusted_list = _adjust_frames_by_sequence_indiv_length(this_df)\n",
    "        result += this_adjusted_list\n",
    "        \n",
    "    return (result)\n",
    "\n"
   ]
  },
  {
   "cell_type": "code",
   "execution_count": null,
   "id": "451a0996",
   "metadata": {},
   "outputs": [],
   "source": [
    " "
   ]
  },
  {
   "cell_type": "code",
   "execution_count": 20,
   "id": "460384f7",
   "metadata": {},
   "outputs": [],
   "source": [
    "sample_df_1 = pd.DataFrame(MII_1_counts[1]).transpose()"
   ]
  },
  {
   "cell_type": "code",
   "execution_count": 46,
   "id": "b81a642b",
   "metadata": {},
   "outputs": [
    {
     "data": {
      "text/plain": [
       "0    46.670737\n",
       "1    26.450915\n",
       "2    26.878348\n",
       "dtype: float64"
      ]
     },
     "execution_count": 46,
     "metadata": {},
     "output_type": "execute_result"
    }
   ],
   "source": [
    "a = adjust_frames_by_sequence(MII_1_counts)\n",
    "calculate_periodicity_percentage(a)"
   ]
  },
  {
   "cell_type": "code",
   "execution_count": 23,
   "id": "793688bb",
   "metadata": {},
   "outputs": [],
   "source": [
    "a = _p_site_adjust(sample_df_1)"
   ]
  },
  {
   "cell_type": "code",
   "execution_count": 24,
   "id": "619fd479",
   "metadata": {},
   "outputs": [
    {
     "data": {
      "text/plain": [
       "0    47.200822\n",
       "1    25.719055\n",
       "2    27.080123\n",
       "dtype: float64"
      ]
     },
     "execution_count": 24,
     "metadata": {},
     "output_type": "execute_result"
    }
   ],
   "source": [
    "calculate_periodicity_percentage(a)"
   ]
  },
  {
   "cell_type": "code",
   "execution_count": 50,
   "id": "2a64419c",
   "metadata": {},
   "outputs": [
    {
     "data": {
      "text/plain": [
       "0    37.489245\n",
       "1    32.332288\n",
       "2    30.178467\n",
       "dtype: float64"
      ]
     },
     "execution_count": 50,
     "metadata": {},
     "output_type": "execute_result"
    }
   ],
   "source": [
    "b = adjust_p_sites(MII_1_counts)\n",
    "calculate_periodicity_percentage(b)"
   ]
  },
  {
   "cell_type": "code",
   "execution_count": 57,
   "id": "558622c5",
   "metadata": {},
   "outputs": [
    {
     "name": "stdout",
     "output_type": "stream",
     "text": [
      "20210301-ITP-MII-25-B\n",
      "20210301-ITP-MII-50-A\n",
      "20210301-ITP-MII-50-B\n",
      "20210318-ITP-MII-50-B\n",
      "20210513-ITP-1cell-cross-50-A\n",
      "20210513-ITP-1cell-cross-50-B\n",
      "20210513-ITP-1cell-cross-50-C\n",
      "20210513-ITP-1cell-cross-50-D\n",
      "20210513-ITP-1cell-cross-50-E\n",
      "20210513-ITP-2cell-cross-50-B\n",
      "20210513-ITP-2cell-cross-50-C\n",
      "20210513-ITP-2cell-cross-50-F\n",
      "20210513-ITP-4cell-cross-50-B\n",
      "20210513-ITP-4cell-cross-50-C\n",
      "20210513-ITP-4cell-cross-50-D\n",
      "20210513-ITP-8cell-cross-50-A\n",
      "20210513-ITP-8cell-cross-50-B\n",
      "20210513-ITP-8cell-cross-50-C\n",
      "20210513-ITP-8cell-cross-50-D\n",
      "20210614-ITP-GV-50-A\n",
      "20210614-ITP-GV-50-B\n",
      "20210614-ITP-GV-50-C\n",
      "20210614-ITP-GV-50-E\n",
      "20210614-ITP-GV-50-F\n",
      "20210614-ITP-MII-50-D\n"
     ]
    }
   ],
   "source": [
    "experiments = mouse_ribo.experiments\n",
    "\n",
    "nucleotide_counts_2_1 = dict()\n",
    "nucleotide_counts_0_1 = dict()\n",
    "\n",
    "for e in experiments:\n",
    "    print(e)\n",
    "    this_coverage = make_coverage_dict_of_experiment(\n",
    "                            mouse_ribo, \n",
    "                            experiment = e, \n",
    "                            len_min    = LEN_MIN, \n",
    "                            len_max    = LEN_MAX )\n",
    "    \n",
    "    nucleotide_counts_2_1[e] = count_nucleotides_parallel( \n",
    "                                    coverage_dict       = this_coverage, \n",
    "                                    cds_annotation_dict = mouse_cds_boundaries ,\n",
    "                                    sequence_dict       = mouse_sequences, \n",
    "                                    rpf_min = LEN_MIN, rpf_max = LEN_MAX,\n",
    "                                    left_span           = 2, \n",
    "                                    right_span          = 1 )\n",
    "    \n",
    "    nucleotide_counts_0_1[e] = count_nucleotides_parallel( \n",
    "                                    coverage_dict       = this_coverage, \n",
    "                                    cds_annotation_dict = mouse_cds_boundaries ,\n",
    "                                    sequence_dict       = mouse_sequences, \n",
    "                                    rpf_min = LEN_MIN, rpf_max = LEN_MAX,\n",
    "                                    left_span           = 0, \n",
    "                                    right_span          = 1 )   \n"
   ]
  },
  {
   "cell_type": "code",
   "execution_count": 75,
   "id": "0dcf0344",
   "metadata": {},
   "outputs": [
    {
     "data": {
      "text/plain": [
       "0    46.120797\n",
       "1    26.120520\n",
       "2    27.758683\n",
       "dtype: float64"
      ]
     },
     "execution_count": 75,
     "metadata": {},
     "output_type": "execute_result"
    }
   ],
   "source": [
    "this_adjusted_frames = adjust_frames_by_sequence(nucleotide_counts_2_1[mouse_ribo.experiments[3]]  )\n",
    "calculate_periodicity_percentage(this_adjusted_frames)"
   ]
  },
  {
   "cell_type": "code",
   "execution_count": 77,
   "id": "9aecd69b",
   "metadata": {},
   "outputs": [
    {
     "data": {
      "text/plain": [
       "0    37.019068\n",
       "1    32.112288\n",
       "2    30.868644\n",
       "dtype: float64"
      ]
     },
     "execution_count": 77,
     "metadata": {},
     "output_type": "execute_result"
    }
   ],
   "source": [
    "this_adjusted_frames = adjust_p_sites(nucleotide_counts_2_1[mouse_ribo.experiments[3]]  )\n",
    "calculate_periodicity_percentage(this_adjusted_frames)"
   ]
  },
  {
   "cell_type": "code",
   "execution_count": null,
   "id": "3724bef8",
   "metadata": {},
   "outputs": [],
   "source": [
    "20210301-ITP-MII-50-B"
   ]
  },
  {
   "cell_type": "code",
   "execution_count": 80,
   "id": "d1dbe5d0",
   "metadata": {
    "scrolled": true
   },
   "outputs": [],
   "source": [
    "mouse_adjusted_frame_percentages = dict()\n",
    "mouse_raw_frame_percentages      = dict()\n",
    "\n",
    "for e in mouse_ribo.experiments:\n",
    "    adjusted_frames            = adjust_frames_by_sequence(nucleotide_counts_2_1[e]  )\n",
    "    p_raw_frames               = adjust_p_sites(nucleotide_counts_2_1[e])\n",
    "    \n",
    "    mouse_raw_frame_percentages[e]      = calculate_periodicity_percentage(p_raw_frames)\n",
    "    mouse_adjusted_frame_percentages[e] = calculate_periodicity_percentage(adjusted_frames)    "
   ]
  },
  {
   "cell_type": "code",
   "execution_count": 86,
   "id": "d4a2855c",
   "metadata": {},
   "outputs": [],
   "source": [
    "mouse_adjusted_frame_percentages_df = pd.DataFrame(mouse_adjusted_frame_percentages).transpose()\n",
    "mouse_raw_frame_percentages_df = pd.DataFrame(mouse_raw_frame_percentages).transpose()"
   ]
  },
  {
   "cell_type": "code",
   "execution_count": 89,
   "id": "d320cdf2",
   "metadata": {},
   "outputs": [],
   "source": [
    "mouse_adjusted_frame_percentages_df.to_csv(\"mouse_adjusted_frame_percentages.csv\")"
   ]
  },
  {
   "cell_type": "code",
   "execution_count": null,
   "id": "3476cbed",
   "metadata": {},
   "outputs": [],
   "source": [
    "mouse_raw_frame_percentages_df"
   ]
  },
  {
   "cell_type": "code",
   "execution_count": 90,
   "id": "8a1a25cb",
   "metadata": {},
   "outputs": [],
   "source": [
    "mouse_raw_frame_percentages_df.to_csv(\"mouse_raw_frame_percentages.csv\")"
   ]
  },
  {
   "cell_type": "code",
   "execution_count": null,
   "id": "a6d3cb4d",
   "metadata": {},
   "outputs": [],
   "source": []
  },
  {
   "cell_type": "code",
   "execution_count": 88,
   "id": "e92630ee",
   "metadata": {},
   "outputs": [
    {
     "data": {
      "text/html": [
       "<div>\n",
       "<style scoped>\n",
       "    .dataframe tbody tr th:only-of-type {\n",
       "        vertical-align: middle;\n",
       "    }\n",
       "\n",
       "    .dataframe tbody tr th {\n",
       "        vertical-align: top;\n",
       "    }\n",
       "\n",
       "    .dataframe thead th {\n",
       "        text-align: right;\n",
       "    }\n",
       "</style>\n",
       "<table border=\"1\" class=\"dataframe\">\n",
       "  <thead>\n",
       "    <tr style=\"text-align: right;\">\n",
       "      <th></th>\n",
       "      <th>0</th>\n",
       "      <th>1</th>\n",
       "      <th>2</th>\n",
       "    </tr>\n",
       "  </thead>\n",
       "  <tbody>\n",
       "    <tr>\n",
       "      <th>20210301-ITP-MII-25-B</th>\n",
       "      <td>37.489245</td>\n",
       "      <td>32.332288</td>\n",
       "      <td>30.178467</td>\n",
       "    </tr>\n",
       "    <tr>\n",
       "      <th>20210301-ITP-MII-50-A</th>\n",
       "      <td>37.019068</td>\n",
       "      <td>32.112288</td>\n",
       "      <td>30.868644</td>\n",
       "    </tr>\n",
       "    <tr>\n",
       "      <th>20210301-ITP-MII-50-B</th>\n",
       "      <td>36.911532</td>\n",
       "      <td>30.491706</td>\n",
       "      <td>32.596761</td>\n",
       "    </tr>\n",
       "    <tr>\n",
       "      <th>20210318-ITP-MII-50-B</th>\n",
       "      <td>36.300136</td>\n",
       "      <td>31.971893</td>\n",
       "      <td>31.727971</td>\n",
       "    </tr>\n",
       "    <tr>\n",
       "      <th>20210513-ITP-1cell-cross-50-A</th>\n",
       "      <td>37.168580</td>\n",
       "      <td>30.238705</td>\n",
       "      <td>32.592715</td>\n",
       "    </tr>\n",
       "    <tr>\n",
       "      <th>20210513-ITP-1cell-cross-50-B</th>\n",
       "      <td>36.218600</td>\n",
       "      <td>31.001484</td>\n",
       "      <td>32.779916</td>\n",
       "    </tr>\n",
       "    <tr>\n",
       "      <th>20210513-ITP-1cell-cross-50-C</th>\n",
       "      <td>37.133682</td>\n",
       "      <td>32.524691</td>\n",
       "      <td>30.341627</td>\n",
       "    </tr>\n",
       "    <tr>\n",
       "      <th>20210513-ITP-1cell-cross-50-D</th>\n",
       "      <td>36.679381</td>\n",
       "      <td>32.248149</td>\n",
       "      <td>31.072470</td>\n",
       "    </tr>\n",
       "    <tr>\n",
       "      <th>20210513-ITP-1cell-cross-50-E</th>\n",
       "      <td>36.819110</td>\n",
       "      <td>31.516946</td>\n",
       "      <td>31.663944</td>\n",
       "    </tr>\n",
       "    <tr>\n",
       "      <th>20210513-ITP-2cell-cross-50-B</th>\n",
       "      <td>37.605734</td>\n",
       "      <td>30.435105</td>\n",
       "      <td>31.959161</td>\n",
       "    </tr>\n",
       "    <tr>\n",
       "      <th>20210513-ITP-2cell-cross-50-C</th>\n",
       "      <td>36.921174</td>\n",
       "      <td>32.797219</td>\n",
       "      <td>30.281607</td>\n",
       "    </tr>\n",
       "    <tr>\n",
       "      <th>20210513-ITP-2cell-cross-50-F</th>\n",
       "      <td>36.978760</td>\n",
       "      <td>30.359491</td>\n",
       "      <td>32.661749</td>\n",
       "    </tr>\n",
       "    <tr>\n",
       "      <th>20210513-ITP-4cell-cross-50-B</th>\n",
       "      <td>37.133286</td>\n",
       "      <td>31.987393</td>\n",
       "      <td>30.879321</td>\n",
       "    </tr>\n",
       "    <tr>\n",
       "      <th>20210513-ITP-4cell-cross-50-C</th>\n",
       "      <td>36.831841</td>\n",
       "      <td>32.288634</td>\n",
       "      <td>30.879525</td>\n",
       "    </tr>\n",
       "    <tr>\n",
       "      <th>20210513-ITP-4cell-cross-50-D</th>\n",
       "      <td>36.681023</td>\n",
       "      <td>30.684706</td>\n",
       "      <td>32.634270</td>\n",
       "    </tr>\n",
       "    <tr>\n",
       "      <th>20210513-ITP-8cell-cross-50-A</th>\n",
       "      <td>37.566199</td>\n",
       "      <td>29.639677</td>\n",
       "      <td>32.794124</td>\n",
       "    </tr>\n",
       "    <tr>\n",
       "      <th>20210513-ITP-8cell-cross-50-B</th>\n",
       "      <td>36.980073</td>\n",
       "      <td>32.584216</td>\n",
       "      <td>30.435711</td>\n",
       "    </tr>\n",
       "    <tr>\n",
       "      <th>20210513-ITP-8cell-cross-50-C</th>\n",
       "      <td>37.662230</td>\n",
       "      <td>31.751715</td>\n",
       "      <td>30.586056</td>\n",
       "    </tr>\n",
       "    <tr>\n",
       "      <th>20210513-ITP-8cell-cross-50-D</th>\n",
       "      <td>37.095086</td>\n",
       "      <td>32.277852</td>\n",
       "      <td>30.627062</td>\n",
       "    </tr>\n",
       "    <tr>\n",
       "      <th>20210614-ITP-GV-50-A</th>\n",
       "      <td>37.794955</td>\n",
       "      <td>31.217792</td>\n",
       "      <td>30.987253</td>\n",
       "    </tr>\n",
       "    <tr>\n",
       "      <th>20210614-ITP-GV-50-B</th>\n",
       "      <td>37.740208</td>\n",
       "      <td>32.553766</td>\n",
       "      <td>29.706027</td>\n",
       "    </tr>\n",
       "    <tr>\n",
       "      <th>20210614-ITP-GV-50-C</th>\n",
       "      <td>38.227609</td>\n",
       "      <td>31.328468</td>\n",
       "      <td>30.443924</td>\n",
       "    </tr>\n",
       "    <tr>\n",
       "      <th>20210614-ITP-GV-50-E</th>\n",
       "      <td>38.583356</td>\n",
       "      <td>31.177499</td>\n",
       "      <td>30.239145</td>\n",
       "    </tr>\n",
       "    <tr>\n",
       "      <th>20210614-ITP-GV-50-F</th>\n",
       "      <td>38.533787</td>\n",
       "      <td>30.756745</td>\n",
       "      <td>30.709468</td>\n",
       "    </tr>\n",
       "    <tr>\n",
       "      <th>20210614-ITP-MII-50-D</th>\n",
       "      <td>36.694537</td>\n",
       "      <td>30.106066</td>\n",
       "      <td>33.199397</td>\n",
       "    </tr>\n",
       "  </tbody>\n",
       "</table>\n",
       "</div>"
      ],
      "text/plain": [
       "                                       0          1          2\n",
       "20210301-ITP-MII-25-B          37.489245  32.332288  30.178467\n",
       "20210301-ITP-MII-50-A          37.019068  32.112288  30.868644\n",
       "20210301-ITP-MII-50-B          36.911532  30.491706  32.596761\n",
       "20210318-ITP-MII-50-B          36.300136  31.971893  31.727971\n",
       "20210513-ITP-1cell-cross-50-A  37.168580  30.238705  32.592715\n",
       "20210513-ITP-1cell-cross-50-B  36.218600  31.001484  32.779916\n",
       "20210513-ITP-1cell-cross-50-C  37.133682  32.524691  30.341627\n",
       "20210513-ITP-1cell-cross-50-D  36.679381  32.248149  31.072470\n",
       "20210513-ITP-1cell-cross-50-E  36.819110  31.516946  31.663944\n",
       "20210513-ITP-2cell-cross-50-B  37.605734  30.435105  31.959161\n",
       "20210513-ITP-2cell-cross-50-C  36.921174  32.797219  30.281607\n",
       "20210513-ITP-2cell-cross-50-F  36.978760  30.359491  32.661749\n",
       "20210513-ITP-4cell-cross-50-B  37.133286  31.987393  30.879321\n",
       "20210513-ITP-4cell-cross-50-C  36.831841  32.288634  30.879525\n",
       "20210513-ITP-4cell-cross-50-D  36.681023  30.684706  32.634270\n",
       "20210513-ITP-8cell-cross-50-A  37.566199  29.639677  32.794124\n",
       "20210513-ITP-8cell-cross-50-B  36.980073  32.584216  30.435711\n",
       "20210513-ITP-8cell-cross-50-C  37.662230  31.751715  30.586056\n",
       "20210513-ITP-8cell-cross-50-D  37.095086  32.277852  30.627062\n",
       "20210614-ITP-GV-50-A           37.794955  31.217792  30.987253\n",
       "20210614-ITP-GV-50-B           37.740208  32.553766  29.706027\n",
       "20210614-ITP-GV-50-C           38.227609  31.328468  30.443924\n",
       "20210614-ITP-GV-50-E           38.583356  31.177499  30.239145\n",
       "20210614-ITP-GV-50-F           38.533787  30.756745  30.709468\n",
       "20210614-ITP-MII-50-D          36.694537  30.106066  33.199397"
      ]
     },
     "execution_count": 88,
     "metadata": {},
     "output_type": "execute_result"
    }
   ],
   "source": [
    "mouse_raw_frame_percentages_df"
   ]
  },
  {
   "cell_type": "markdown",
   "id": "30b90dc8",
   "metadata": {},
   "source": [
    "--------------------------------------------------------"
   ]
  },
  {
   "cell_type": "markdown",
   "id": "f580ea86",
   "metadata": {},
   "source": [
    "## HUMAN DATA"
   ]
  },
  {
   "cell_type": "code",
   "execution_count": 91,
   "id": "45cf7f6f",
   "metadata": {},
   "outputs": [
    {
     "data": {
      "text/plain": [
       "('20191203-Kit-10M-Monosome-1',\n",
       " '20191203-Kit-10M-Monosome-2',\n",
       " '20191203-Kit-10M-Monosome-3',\n",
       " '20201104-ITP-100-5mM-50-1',\n",
       " '20201209-ITP-100-5mM-6',\n",
       " '20210131-ITP-100-5mM-50_diluted-1')"
      ]
     },
     "execution_count": 91,
     "metadata": {},
     "output_type": "execute_result"
    }
   ],
   "source": [
    "human_ribo.experiments"
   ]
  },
  {
   "cell_type": "code",
   "execution_count": 92,
   "id": "e75a5d59",
   "metadata": {},
   "outputs": [
    {
     "name": "stdout",
     "output_type": "stream",
     "text": [
      "20191203-Kit-10M-Monosome-1\n",
      "20191203-Kit-10M-Monosome-2\n",
      "20191203-Kit-10M-Monosome-3\n",
      "20201104-ITP-100-5mM-50-1\n",
      "20201209-ITP-100-5mM-6\n",
      "20210131-ITP-100-5mM-50_diluted-1\n"
     ]
    }
   ],
   "source": [
    "human_experiments = human_ribo.experiments\n",
    "\n",
    "\n",
    "human_nucleotide_counts_2_1 = dict()\n",
    "\n",
    "\n",
    "for e in human_experiments:\n",
    "    print(e)\n",
    "    this_coverage = make_coverage_dict_of_experiment(\n",
    "                            human_ribo, \n",
    "                            experiment = e, \n",
    "                            len_min    = LEN_MIN, \n",
    "                            len_max    = LEN_MAX )\n",
    "    \n",
    "    \n",
    "    human_nucleotide_counts_2_1[e] = count_nucleotides_parallel( \n",
    "                                    coverage_dict       = this_coverage, \n",
    "                                    cds_annotation_dict = human_cds_boundaries ,\n",
    "                                    sequence_dict       = human_sequences, \n",
    "                                    rpf_min = LEN_MIN, rpf_max = LEN_MAX,\n",
    "                                    left_span           = 2, \n",
    "                                    right_span          = 1 )   \n",
    "\n"
   ]
  },
  {
   "cell_type": "code",
   "execution_count": 96,
   "id": "f5340671",
   "metadata": {},
   "outputs": [],
   "source": [
    "human_adjusted_frame_percentages = dict()\n",
    "human_raw_frame_percentages      = dict()\n",
    "\n",
    "for e in human_ribo.experiments:\n",
    "    adjusted_frames            = adjust_frames_by_sequence(human_nucleotide_counts_2_1[e]  )\n",
    "    p_raw_frames               = adjust_p_sites(human_nucleotide_counts_2_1[e])\n",
    "    \n",
    "    human_raw_frame_percentages[e]      = calculate_periodicity_percentage(p_raw_frames)\n",
    "    human_adjusted_frame_percentages[e] = calculate_periodicity_percentage(adjusted_frames) "
   ]
  },
  {
   "cell_type": "code",
   "execution_count": 97,
   "id": "acb28c26",
   "metadata": {},
   "outputs": [
    {
     "data": {
      "text/html": [
       "<div>\n",
       "<style scoped>\n",
       "    .dataframe tbody tr th:only-of-type {\n",
       "        vertical-align: middle;\n",
       "    }\n",
       "\n",
       "    .dataframe tbody tr th {\n",
       "        vertical-align: top;\n",
       "    }\n",
       "\n",
       "    .dataframe thead th {\n",
       "        text-align: right;\n",
       "    }\n",
       "</style>\n",
       "<table border=\"1\" class=\"dataframe\">\n",
       "  <thead>\n",
       "    <tr style=\"text-align: right;\">\n",
       "      <th></th>\n",
       "      <th>0</th>\n",
       "      <th>1</th>\n",
       "      <th>2</th>\n",
       "    </tr>\n",
       "  </thead>\n",
       "  <tbody>\n",
       "    <tr>\n",
       "      <th>20191203-Kit-10M-Monosome-1</th>\n",
       "      <td>39.006724</td>\n",
       "      <td>31.846913</td>\n",
       "      <td>29.146363</td>\n",
       "    </tr>\n",
       "    <tr>\n",
       "      <th>20191203-Kit-10M-Monosome-2</th>\n",
       "      <td>38.693376</td>\n",
       "      <td>32.024315</td>\n",
       "      <td>29.282310</td>\n",
       "    </tr>\n",
       "    <tr>\n",
       "      <th>20191203-Kit-10M-Monosome-3</th>\n",
       "      <td>38.623567</td>\n",
       "      <td>32.480144</td>\n",
       "      <td>28.896289</td>\n",
       "    </tr>\n",
       "    <tr>\n",
       "      <th>20201104-ITP-100-5mM-50-1</th>\n",
       "      <td>38.641237</td>\n",
       "      <td>32.225242</td>\n",
       "      <td>29.133521</td>\n",
       "    </tr>\n",
       "    <tr>\n",
       "      <th>20201209-ITP-100-5mM-6</th>\n",
       "      <td>37.139046</td>\n",
       "      <td>31.723705</td>\n",
       "      <td>31.137249</td>\n",
       "    </tr>\n",
       "    <tr>\n",
       "      <th>20210131-ITP-100-5mM-50_diluted-1</th>\n",
       "      <td>37.707792</td>\n",
       "      <td>31.300839</td>\n",
       "      <td>30.991369</td>\n",
       "    </tr>\n",
       "  </tbody>\n",
       "</table>\n",
       "</div>"
      ],
      "text/plain": [
       "                                           0          1          2\n",
       "20191203-Kit-10M-Monosome-1        39.006724  31.846913  29.146363\n",
       "20191203-Kit-10M-Monosome-2        38.693376  32.024315  29.282310\n",
       "20191203-Kit-10M-Monosome-3        38.623567  32.480144  28.896289\n",
       "20201104-ITP-100-5mM-50-1          38.641237  32.225242  29.133521\n",
       "20201209-ITP-100-5mM-6             37.139046  31.723705  31.137249\n",
       "20210131-ITP-100-5mM-50_diluted-1  37.707792  31.300839  30.991369"
      ]
     },
     "execution_count": 97,
     "metadata": {},
     "output_type": "execute_result"
    }
   ],
   "source": [
    "human_raw_frame_percentages_df = pd.DataFrame(human_raw_frame_percentages).transpose()\n",
    "human_raw_frame_percentages_df.to_csv(\"human_raw_frame_percentages.csv\")\n",
    "human_raw_frame_percentages_df"
   ]
  },
  {
   "cell_type": "code",
   "execution_count": 98,
   "id": "382ae527",
   "metadata": {},
   "outputs": [
    {
     "data": {
      "text/html": [
       "<div>\n",
       "<style scoped>\n",
       "    .dataframe tbody tr th:only-of-type {\n",
       "        vertical-align: middle;\n",
       "    }\n",
       "\n",
       "    .dataframe tbody tr th {\n",
       "        vertical-align: top;\n",
       "    }\n",
       "\n",
       "    .dataframe thead th {\n",
       "        text-align: right;\n",
       "    }\n",
       "</style>\n",
       "<table border=\"1\" class=\"dataframe\">\n",
       "  <thead>\n",
       "    <tr style=\"text-align: right;\">\n",
       "      <th></th>\n",
       "      <th>0</th>\n",
       "      <th>1</th>\n",
       "      <th>2</th>\n",
       "    </tr>\n",
       "  </thead>\n",
       "  <tbody>\n",
       "    <tr>\n",
       "      <th>20191203-Kit-10M-Monosome-1</th>\n",
       "      <td>47.847891</td>\n",
       "      <td>25.507283</td>\n",
       "      <td>26.644826</td>\n",
       "    </tr>\n",
       "    <tr>\n",
       "      <th>20191203-Kit-10M-Monosome-2</th>\n",
       "      <td>47.466395</td>\n",
       "      <td>25.968606</td>\n",
       "      <td>26.564998</td>\n",
       "    </tr>\n",
       "    <tr>\n",
       "      <th>20191203-Kit-10M-Monosome-3</th>\n",
       "      <td>47.432668</td>\n",
       "      <td>25.929824</td>\n",
       "      <td>26.637508</td>\n",
       "    </tr>\n",
       "    <tr>\n",
       "      <th>20201104-ITP-100-5mM-50-1</th>\n",
       "      <td>48.485020</td>\n",
       "      <td>25.323344</td>\n",
       "      <td>26.191635</td>\n",
       "    </tr>\n",
       "    <tr>\n",
       "      <th>20201209-ITP-100-5mM-6</th>\n",
       "      <td>48.398547</td>\n",
       "      <td>25.023012</td>\n",
       "      <td>26.578441</td>\n",
       "    </tr>\n",
       "    <tr>\n",
       "      <th>20210131-ITP-100-5mM-50_diluted-1</th>\n",
       "      <td>48.164119</td>\n",
       "      <td>24.983320</td>\n",
       "      <td>26.852562</td>\n",
       "    </tr>\n",
       "  </tbody>\n",
       "</table>\n",
       "</div>"
      ],
      "text/plain": [
       "                                           0          1          2\n",
       "20191203-Kit-10M-Monosome-1        47.847891  25.507283  26.644826\n",
       "20191203-Kit-10M-Monosome-2        47.466395  25.968606  26.564998\n",
       "20191203-Kit-10M-Monosome-3        47.432668  25.929824  26.637508\n",
       "20201104-ITP-100-5mM-50-1          48.485020  25.323344  26.191635\n",
       "20201209-ITP-100-5mM-6             48.398547  25.023012  26.578441\n",
       "20210131-ITP-100-5mM-50_diluted-1  48.164119  24.983320  26.852562"
      ]
     },
     "execution_count": 98,
     "metadata": {},
     "output_type": "execute_result"
    }
   ],
   "source": [
    "human_adjusted_frame_percentages_df = pd.DataFrame(human_adjusted_frame_percentages).transpose()\n",
    "human_adjusted_frame_percentages_df.to_csv(\"human_adjusted_frame_percentages.csv\")\n",
    "human_adjusted_frame_percentages_df"
   ]
  },
  {
   "cell_type": "code",
   "execution_count": null,
   "id": "c5a8787b",
   "metadata": {},
   "outputs": [],
   "source": []
  },
  {
   "cell_type": "markdown",
   "id": "27b89ae6",
   "metadata": {},
   "source": [
    "## Frame Adjustment:\n",
    "### Notes:\n",
    "   Mouse: Adjusted mean percentage, for frame 0 is 46.99% with standard error 0.18\n",
    "   For the mouse data, we used all single cell experiments from GV, MII and 1-cell embryo stages.\n",
    "   \n",
    "   Human 100-cell:  Adjusted mean percentage, for frame 0 is 48.34% with standard error 0.09\n",
    "   Human Monosome: Adjusted percentage, for frame 0 is 47.58% with standard error 0.13\n",
    "   \n",
    "### Frame Adjustment:\n",
    "   For a read, we define its frame to be the difference between module 3 of the \n",
    "   difference between the 5' end of the read and the translation start site.\n",
    "   \n",
    "   For each RPF length, we considered the last two nucleotides at the 3' end of the read\n",
    "   and one nucleotide downstream of the 3' end.\n",
    "   For each of these triplets of these nucleotides, we counted the number of reads\n",
    "   mapping to the frames 0,1,2.\n",
    "   \n",
    "   Then we applied cyclic shifts to each triplet so that the maximum value is at frame 0.\n",
    "   After aggregating all triplets for all RPF lengths,\n",
    "   we obtain the total adjusted counts of the frames 0, 1, 2.\n",
    "   \n",
    "  "
   ]
  },
  {
   "cell_type": "code",
   "execution_count": null,
   "id": "788335fd",
   "metadata": {},
   "outputs": [],
   "source": []
  }
 ],
 "metadata": {
  "kernelspec": {
   "display_name": "Python 3",
   "language": "python",
   "name": "python3"
  },
  "language_info": {
   "codemirror_mode": {
    "name": "ipython",
    "version": 3
   },
   "file_extension": ".py",
   "mimetype": "text/x-python",
   "name": "python",
   "nbconvert_exporter": "python",
   "pygments_lexer": "ipython3",
   "version": "3.6.13"
  }
 },
 "nbformat": 4,
 "nbformat_minor": 5
}
