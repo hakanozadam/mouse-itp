{
 "cells": [
  {
   "cell_type": "code",
   "execution_count": 3,
   "id": "d79bb32e",
   "metadata": {},
   "outputs": [],
   "source": [
    "import gzip\n",
    "import sys\n",
    "from copy import deepcopy\n",
    "\n",
    "sys.path.insert(0, '../')\n",
    "from ref_lib.GTF import GTFfile, GTFEntry, get_gtf_contents\n",
    "from ref_lib.Fasta import FastaEntry, FastaFile\n",
    "\n",
    "from collections import defaultdict, OrderedDict"
   ]
  },
  {
   "cell_type": "markdown",
   "id": "c5b32b1f",
   "metadata": {},
   "source": [
    "It would be good to document this a bit more!"
   ]
  },
  {
   "cell_type": "code",
   "execution_count": 24,
   "id": "bc5f6556",
   "metadata": {},
   "outputs": [],
   "source": [
    "reverse_complement_dict = { \"A\" : \"T\",\n",
    "                            \"C\" : \"G\",\n",
    "                            \"G\" : \"C\",\n",
    "                            \"T\" : \"A\",\n",
    "                            \"N\" : \"N\"}"
   ]
  },
  {
   "cell_type": "code",
   "execution_count": 25,
   "id": "19d872bc",
   "metadata": {},
   "outputs": [],
   "source": [
    "VCF_FIELDS = [\"CHROM\", \"POS\", \"ID\", \"REF\", \"ALT\", \"QUAL\", \"FILTER\",  \"INFO\",    \"FORMAT\",  \"CAST_EiJ\"]\n",
    "\n",
    "class VcfEntry:\n",
    "\n",
    "    def __init__(self , vcf_line_contents ):\n",
    "        assert len(vcf_line_contents) >= len(VCF_FIELDS)\n",
    "        \n",
    "        self.fields = { VCF_FIELDS[i] : vcf_line_contents[i] for i in range( len(VCF_FIELDS) ) }\n",
    "        \n",
    "        \n",
    "    def __str__(self ):\n",
    "        \"\"\"\n",
    "        This needs to be rewritten \n",
    "        \"\"\"\n",
    "        return \"\\t\".join( [self.fields[f] for f in VCF_FIELDS] )\n",
    "\n",
    "\n",
    "############################################################################\n",
    "    \n",
    "class VcfFile:\n",
    "    '''\n",
    "    This is a reader for \n",
    "    '''\n",
    "    \n",
    "    def __init__(self , file):\n",
    "        myopen = open\n",
    "        if file.endswith(\".gz\"):\n",
    "            myopen = gzip.open\n",
    "\n",
    "        if(file):\n",
    "            self.f = myopen(file , \"rt\")\n",
    "        else:\n",
    "            self.f = stdin\n",
    "\n",
    "    #####################################################\n",
    "\n",
    "    def __enter__(self):\n",
    "        return self\n",
    "\n",
    "    #####################################################\n",
    "\n",
    "    def __exit__(self, exc_type, exc_val, exc_tb):\n",
    "        pass\n",
    "\n",
    "    ######################################################\n",
    "\n",
    "    def __getitem__(self, index):\n",
    "        line = self.f.readline().strip()\n",
    "        \n",
    "        while line.startswith(\"#\"):\n",
    "            line = self.f.readline().strip()\n",
    "        \n",
    "        if line == \"\":\n",
    "            raise IndexError\n",
    "        #line_contents = line.split(\"\\t\")\n",
    "        line_contents = line.split()\n",
    "        if len(line_contents) < 9:\n",
    "            raise IndexError\n",
    "        return VcfEntry(line_contents)\n",
    "                \n",
    "    #########################################################\n",
    "\n",
    "    def __del__(self):\n",
    "        self.f.close()\n",
    "\n"
   ]
  },
  {
   "cell_type": "code",
   "execution_count": 26,
   "id": "8a69713f",
   "metadata": {},
   "outputs": [],
   "source": [
    "vcf_file = \"../reference_files/CAST.SNPs.validated.vcf.gz\"\n",
    "\n",
    "my_vcf = VcfFile(vcf_file)"
   ]
  },
  {
   "cell_type": "code",
   "execution_count": 27,
   "id": "ac957dfd",
   "metadata": {},
   "outputs": [],
   "source": [
    "gtf_file = \"../reference_files/gencode.vM25.annotation.gtf.gz\"\n",
    "\n",
    "gtf_all = get_gtf_contents(gtf_file)"
   ]
  },
  {
   "cell_type": "code",
   "execution_count": 28,
   "id": "ca862844",
   "metadata": {},
   "outputs": [],
   "source": [
    "fasta_file   = \"../reference_files/appris_mouse_v2_selected.fa.gz\" \n",
    "fasta_reader = FastaFile(fasta_file)"
   ]
  },
  {
   "cell_type": "code",
   "execution_count": 29,
   "id": "9ffa78e3",
   "metadata": {},
   "outputs": [],
   "source": [
    "fasta_entries = [a for a in fasta_reader]"
   ]
  },
  {
   "cell_type": "code",
   "execution_count": 30,
   "id": "8fdba31d",
   "metadata": {},
   "outputs": [],
   "source": [
    "fasta_dict = OrderedDict()\n",
    "\n",
    "for f in fasta_entries:\n",
    "    fasta_dict[f.header] = f.sequence"
   ]
  },
  {
   "cell_type": "code",
   "execution_count": 31,
   "id": "9a2451ef",
   "metadata": {},
   "outputs": [],
   "source": [
    "# We find the fasta entries of the transcript files\n",
    "\n",
    "fasta_gtf_entries = {}\n",
    "transcript_to_header = {}\n",
    "\n",
    "for f in fasta_entries:\n",
    "    contents                    = f.header.split(\"|\")\n",
    "    gene_id                     = contents[1].split(\".\")[0]\n",
    "    transcript_id               = contents[0].split(\".\")[0]\n",
    "    fasta_gtf_entries[f.header] = gtf_all[gene_id][transcript_id]\n",
    "    \n",
    "    transcript_to_header[transcript_id] = f.header\n",
    "    \n",
    "    "
   ]
  },
  {
   "cell_type": "code",
   "execution_count": 32,
   "id": "15ab55d5",
   "metadata": {},
   "outputs": [
    {
     "data": {
      "text/plain": [
       "{'exons': [(13552, 14070)],\n",
       " 'CDS': [(13555, 14070, 0)],\n",
       " 'strand': '-',\n",
       " 'start': 13552,\n",
       " 'end': 14070,\n",
       " 'gene_type': 'protein_coding',\n",
       " 'chr': 'chrM',\n",
       " 'length': 519}"
      ]
     },
     "execution_count": 32,
     "metadata": {},
     "output_type": "execute_result"
    }
   ],
   "source": [
    "fasta_gtf_entries[ transcript_to_header['ENSMUST00000082419']  ]"
   ]
  },
  {
   "cell_type": "code",
   "execution_count": 33,
   "id": "6137109f",
   "metadata": {},
   "outputs": [],
   "source": [
    "# Now we convert + strand coordinates\n",
    "conversion_dict = dict()\n",
    "\n",
    "for fasta_header, t_dict  in fasta_gtf_entries.items():\n",
    "    \n",
    "    if not conversion_dict.get(t_dict[\"chr\"]):\n",
    "        conversion_dict[t_dict[\"chr\"]] = defaultdict(list)\n",
    "        \n",
    "    transcript_id = fasta_header.split(\"|\")[0].split(\".\")[0]    \n",
    "        \n",
    "    t_position = 1\n",
    "        \n",
    "    if t_dict[\"strand\"] == \"+\":\n",
    "        \n",
    "        temp_dict     = defaultdict(list) \n",
    "        \n",
    "        for e in t_dict[\"exons\"]:\n",
    "            for i in range(e[0], e[1] + 1):\n",
    "                conversion_dict[t_dict[\"chr\"]][i].append( (transcript_id, t_position, \"+\" ) )\n",
    "                t_position += 1\n",
    "    else:\n",
    "        for e in t_dict[\"exons\"]:\n",
    "            for i in range(e[1], e[0] - 1, -1):\n",
    "                conversion_dict[t_dict[\"chr\"]][i].append( (transcript_id, t_position, \"-\" ) )\n",
    "                t_position += 1"
   ]
  },
  {
   "cell_type": "code",
   "execution_count": 34,
   "id": "fbd574a4",
   "metadata": {},
   "outputs": [
    {
     "name": "stdout",
     "output_type": "stream",
     "text": [
      "Variants found 207451\n"
     ]
    }
   ],
   "source": [
    "counter = 0\n",
    "\n",
    "f_handle = gzip.open(\"transcriptomic_variants.vcf.gz\", \"wt\")\n",
    "\n",
    "for v in my_vcf:\n",
    "    if conversion_dict[v.fields['CHROM']].get( int(v.fields['POS']) ):\n",
    "        counter +=1\n",
    "        \n",
    "        for entry in  conversion_dict[v.fields['CHROM']][ int(v.fields['POS']) ]: \n",
    "            this_entry = deepcopy(v)\n",
    "            this_entry.fields['CHROM'] = transcript_to_header[entry[0]]\n",
    "            this_entry.fields['POS']   = str(entry[1])\n",
    "            \n",
    "            if entry[2] == \"-\":\n",
    "                this_entry.fields['REF'] =  \"\".join(map( lambda x: reverse_complement_dict[x], this_entry.fields['REF']))\n",
    "                this_entry.fields['ALT'] =  \"\".join(map( lambda x: reverse_complement_dict[x], this_entry.fields['ALT']))\n",
    "                \n",
    "            # We also add the original chromosome, position and strand as extra columns\n",
    "            # \n",
    "            this_line = str(this_entry) + \"\\t{}\\t{}\\t{}\".format(v.fields['CHROM'], v.fields['POS'], entry[2])    \n",
    "            print(this_line, file = f_handle)\n",
    "            \n",
    " \n",
    "f_handle.close()\n",
    "        \n",
    "print(\"Variants found {}\".format(counter))"
   ]
  },
  {
   "cell_type": "code",
   "execution_count": 40,
   "id": "735f3283",
   "metadata": {},
   "outputs": [
    {
     "data": {
      "text/plain": [
       "'G'"
      ]
     },
     "execution_count": 40,
     "metadata": {},
     "output_type": "execute_result"
    }
   ],
   "source": [
    "this_header = \"ENSMUST00000215295.1|ENSMUSG00000096054.3|OTTMUSG00000063506.2|OTTMUST00000154809.1|Syne1-205|Syne1|27908|UTR5:1-418|CDS:419-26818|UTR3:26819-27908|\"\n",
    "\n",
    "fasta_dict[this_header][17853]"
   ]
  },
  {
   "cell_type": "code",
   "execution_count": 41,
   "id": "1900c932",
   "metadata": {},
   "outputs": [],
   "source": [
    "## Sanity_cehck\n",
    "## Are reference nucleotides in the Vcf file same as the nucleotides in the fasta files?\n",
    "\n",
    "produced_vcf_file = \"transcriptomic_variants.vcf.gz\"\n",
    "#produced_vcf_file = \"mock.vcf.gz\"\n",
    "\n",
    "produced_vcf = VcfFile(produced_vcf_file)"
   ]
  },
  {
   "cell_type": "code",
   "execution_count": 43,
   "id": "338d96e5",
   "metadata": {
    "scrolled": false
   },
   "outputs": [],
   "source": [
    "# This should NOT print anything on the produced_vcf_file\n",
    "# We put one fault record on the mock file to test our test :)\n",
    "\n",
    "for v in produced_vcf:\n",
    "    observed_nuc = v.fields[\"REF\"]\n",
    "    \n",
    "    # Note that vcf is 1-based and lists are 0-based\n",
    "    # so we need -1 in the index\n",
    "    expected_nuc = fasta_dict[v.fields[\"CHROM\"]][ int(v.fields[\"POS\"])-1]\n",
    "    \n",
    "    if observed_nuc != expected_nuc:\n",
    "        print(\"In\", v.fields[\"CHROM\"])\n",
    "        print(\"At position \", v.fields[\"POS\"])\n",
    "        print(\"{} != {}\".format(observed_nuc, expected_nuc) )"
   ]
  },
  {
   "cell_type": "code",
   "execution_count": null,
   "id": "ea774f1d",
   "metadata": {},
   "outputs": [],
   "source": []
  },
  {
   "cell_type": "code",
   "execution_count": 38,
   "id": "c54b9cf9",
   "metadata": {},
   "outputs": [],
   "source": [
    "## Now we mask our Transcriptomic fasta file based on the variants on VCF\n",
    "\n",
    "produced_vcf = VcfFile(produced_vcf_file)\n",
    "\n",
    "masked_fasta_dict = deepcopy(fasta_dict)\n",
    "\n",
    "for v in produced_vcf:\n",
    "    #print(v.fields[\"POS\"])\n",
    "    #print(v.fields[\"CHROM\"])\n",
    "    #print(masked_fasta_dict[v.fields[\"CHROM\"]])\n",
    "    masked_sequence = masked_fasta_dict[v.fields[\"CHROM\"]][ :(int(v.fields[\"POS\"]) - 1)  ] + \\\n",
    "                      \"N\" + \\\n",
    "                      masked_fasta_dict[v.fields[\"CHROM\"]][ int(v.fields[\"POS\"]): ]\n",
    "    masked_fasta_dict[v.fields[\"CHROM\"]] = masked_sequence\n",
    "    \n",
    "\n",
    "\n",
    "with gzip.open(\"variant_masked_mouse_transcriptome.fa.gz\", \"wt\") as out_stream:\n",
    "    for header, sequence in masked_fasta_dict.items():\n",
    "        this_entry = FastaEntry(header = header, sequence = sequence)\n",
    "        print(this_entry, file = out_stream)\n",
    "        \n",
    "    "
   ]
  },
  {
   "cell_type": "code",
   "execution_count": 39,
   "id": "85715c16",
   "metadata": {},
   "outputs": [],
   "source": [
    "# Let's make sure that all masked positions are N's\n",
    "\n",
    "masked_fasta_file   = \"variant_masked_mouse_transcriptome.fa.gz\"\n",
    "masked_fasta_reader  = FastaFile(masked_fasta_file)\n",
    "\n",
    "read_fasta_dict = {}\n",
    "\n",
    "for f in masked_fasta_reader:\n",
    "    read_fasta_dict[f.header] = f.sequence\n",
    "\n",
    "produced_vcf_file = \"transcriptomic_variants.vcf.gz\"\n",
    "#produced_vcf_file = \"mock.vcf.gz\"\n",
    "\n",
    "produced_vcf = VcfFile(produced_vcf_file)\n",
    "\n",
    "for v in produced_vcf:\n",
    "    \n",
    "    # Note that vcf is 1-based and lists are 0-based\n",
    "    # so we need -1 in the index\n",
    "    assert read_fasta_dict[v.fields[\"CHROM\"]][ int(v.fields[\"POS\"])-1] == \"N\"\n"
   ]
  },
  {
   "cell_type": "code",
   "execution_count": null,
   "id": "e0cf18bd",
   "metadata": {},
   "outputs": [],
   "source": []
  }
 ],
 "metadata": {
  "kernelspec": {
   "display_name": "Python 3",
   "language": "python",
   "name": "python3"
  },
  "language_info": {
   "codemirror_mode": {
    "name": "ipython",
    "version": 3
   },
   "file_extension": ".py",
   "mimetype": "text/x-python",
   "name": "python",
   "nbconvert_exporter": "python",
   "pygments_lexer": "ipython3",
   "version": "3.6.15"
  }
 },
 "nbformat": 4,
 "nbformat_minor": 5
}
