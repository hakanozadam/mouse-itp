{
 "cells": [
  {
   "cell_type": "code",
   "execution_count": 1,
   "id": "d79bb32e",
   "metadata": {},
   "outputs": [],
   "source": [
    "import gzip\n",
    "import sys\n",
    "from copy import deepcopy\n",
    "\n",
    "sys.path.insert(0, '../')\n",
    "from ref_lib.GTF import GTFfile, GTFEntry, get_gtf_contents\n",
    "from ref_lib.Fasta import FastaEntry, FastaFile\n",
    "\n",
    "from collections import defaultdict, OrderedDict"
   ]
  },
  {
   "cell_type": "code",
   "execution_count": 5,
   "id": "fd364acf",
   "metadata": {},
   "outputs": [],
   "source": [
    "lengths_file = \"appris_mouse_v2_filtered_transcript_lengths.tsv\"\n",
    "name_table_file = \"name_correspondences.tsv\"\n",
    "\n",
    "with open(lengths_file, \"rt\") as input_stream,\\\n",
    "    open(name_table_file, \"wt\") as output_stream:\n",
    "\n",
    "    for line in input_stream:\n",
    "        contents = line.strip().split()\n",
    "\n",
    "        if len(contents) < 2:\n",
    "            continue\n",
    "\n",
    "        label_contents = contents[0].split(\"|\")\n",
    "\n",
    "        gene_name               = label_contents[5]\n",
    "        ensembl_transcript_name = label_contents[0].split(\".\")[0]\n",
    "        ensembl_gene_name       = label_contents[1].split(\".\")[0]\n",
    "\n",
    "        print(\"{}\\t{}\\t{}\".format( gene_name, ensembl_gene_name, ensembl_transcript_name) , file = output_stream )\n"
   ]
  },
  {
   "cell_type": "code",
   "execution_count": 6,
   "id": "c2b7506c",
   "metadata": {},
   "outputs": [],
   "source": [
    "name_table_file = \"./name_correspondences.tsv\"\n",
    "\n",
    "def get_gene_to_dict(name_table_file, name_type = \"transcript\"):\n",
    "    if name_type == \"transcript\":\n",
    "        pick_index = 2\n",
    "    else:\n",
    "        pick_index = 1\n",
    "\n",
    "    result = dict()\n",
    "\n",
    "    with open(name_table_file, \"rt\") as input_stream:\n",
    "        for line in input_stream:\n",
    "            contents = line.split()\n",
    "\n",
    "            if len(contents) < 3:\n",
    "                continue\n",
    "\n",
    "            result[contents[0]] = contents[pick_index]\n",
    "\n",
    "    return result\n",
    "\n",
    "\n",
    "gene_to_ensembl_transcript_dict = get_gene_to_dict(name_table_file, name_type = \"transcript\")\n",
    "gene_to_ensembl_gene_dict       = get_gene_to_dict(name_table_file, name_type = \"gene\")\n",
    "\n",
    "# Returns / prints the Ensembl gene name\n",
    "print(gene_to_ensembl_gene_dict[\"Nin\"] )\n",
    "\n",
    "# returns the Ensembl transcript name\n",
    "print(gene_to_ensembl_transcript_dict[\"Nin\"])"
   ]
  },
  {
   "cell_type": "code",
   "execution_count": 9,
   "id": "97c3dc14",
   "metadata": {},
   "outputs": [
    {
     "data": {
      "text/plain": [
       "'ENSMUST00000085314'"
      ]
     },
     "execution_count": 9,
     "metadata": {},
     "output_type": "execute_result"
    }
   ],
   "source": []
  }
 ],
 "metadata": {
  "kernelspec": {
   "display_name": "Python 3",
   "language": "python",
   "name": "python3"
  },
  "language_info": {
   "codemirror_mode": {
    "name": "ipython",
    "version": 3
   },
   "file_extension": ".py",
   "mimetype": "text/x-python",
   "name": "python",
   "nbconvert_exporter": "python",
   "pygments_lexer": "ipython3",
   "version": "3.6.15"
  }
 },
 "nbformat": 4,
 "nbformat_minor": 5
}
